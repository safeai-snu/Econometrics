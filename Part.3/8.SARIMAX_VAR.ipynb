{
 "cells": [
  {
   "cell_type": "markdown",
   "id": "d7746c22",
   "metadata": {
    "colab_type": "text",
    "id": "view-in-github"
   },
   "source": [
    "<a href=\"https://colab.research.google.com/github/safeai-snu/Econometrics/blob/main/Part.3/8.SARIMAX_VAR.ipynb\" target=\"_parent\"><img src=\"https://colab.research.google.com/assets/colab-badge.svg\" alt=\"Open In Colab\"/></a>"
   ]
  },
  {
   "cell_type": "markdown",
   "id": "b07df457",
   "metadata": {
    "id": "b07df457"
   },
   "source": [
    "## 예제 8-1. SARIMAX 모델 예시"
   ]
  },
  {
   "cell_type": "markdown",
   "id": "199d991d",
   "metadata": {},
   "source": [
    "### 호주 전력 소비량 데이터 SARIMAX 모델 적합"
   ]
  },
  {
   "cell_type": "markdown",
   "id": "0c89a652",
   "metadata": {},
   "source": [
    "#### 필요한 패키지 불러오기"
   ]
  },
  {
   "cell_type": "code",
   "execution_count": null,
   "id": "e18512b0",
   "metadata": {},
   "outputs": [],
   "source": [
    "import pandas as pd\n",
    "import numpy as np\n",
    "import matplotlib.pyplot as plt\n",
    "from statsmodels.tsa.stattools import adfuller\n",
    "import statsmodels.api as sm\n",
    "from statsmodels.tsa.statespace.sarimax import SARIMAX\n",
    "\n",
    "import warnings\n",
    "warnings.filterwarnings('ignore')"
   ]
  },
  {
   "cell_type": "markdown",
   "id": "1a2eb243",
   "metadata": {},
   "source": [
    "#### 데이터 불러오기"
   ]
  },
  {
   "cell_type": "code",
   "execution_count": null,
   "id": "837430f1",
   "metadata": {
    "id": "837430f1",
    "outputId": "75c16b1c-d028-4061-ea31-ad70c8dc07eb"
   },
   "outputs": [],
   "source": [
    "vic_elec = pd.read_csv(\"https://raw.githubusercontent.com/safeai-snu/Econometrics/refs/heads/main/Part.3/data/vic_elec.csv\")\n",
    "\n",
    "vic_elec['Time'] = pd.to_datetime(vic_elec['Time'], format='%Y-%m-%d %H:%M:%S', errors='coerce')\n",
    "vic_elec['Date'] = vic_elec['Time'].dt.date\n",
    "\n",
    "vic_elec = vic_elec[(pd.to_datetime(vic_elec['Date']).dt.year == 2013) | (pd.to_datetime(vic_elec['Date']).dt.year == 2014)]"
   ]
  },
  {
   "cell_type": "markdown",
   "id": "e30d5fd1",
   "metadata": {},
   "source": [
    "#### 일별 데이터로의 전처리"
   ]
  },
  {
   "cell_type": "code",
   "execution_count": null,
   "id": "3a918a14",
   "metadata": {},
   "outputs": [],
   "source": [
    "vic_elec_daily = vic_elec.groupby('Date').agg({\n",
    "    'Demand': lambda x: x.sum() / 1e3,\n",
    "    'Temperature': 'max',\n",
    "    'Holiday': 'any'\n",
    "}).reset_index()\n",
    "\n",
    "vic_elec_daily['Day_Type'] = np.where(\n",
    "    vic_elec_daily['Holiday'], 'Holiday',\n",
    "    np.where(pd.to_datetime(vic_elec_daily['Date']).dt.weekday.isin([0, 1, 2, 3, 4]), 'Weekday', 'Weekend')\n",
    ")\n",
    "\n",
    "vic_elec_daily.index = vic_elec_daily['Date'].values\n",
    "vic_elec_daily = vic_elec_daily[['Demand', 'Temperature', 'Day_Type']]\n",
    "vic_elec_daily"
   ]
  },
  {
   "cell_type": "markdown",
   "id": "76e235cd",
   "metadata": {},
   "source": [
    "#### 데이터 시각화"
   ]
  },
  {
   "cell_type": "code",
   "execution_count": null,
   "id": "d074de28",
   "metadata": {
    "id": "d074de28",
    "outputId": "1a1314d0-8f80-47b9-a6be-dd154c7bb24e"
   },
   "outputs": [],
   "source": [
    "fig, (ax1, ax2) = plt.subplots(2, 1, figsize=(12, 8), sharex=True)\n",
    "\n",
    "ax1.plot(vic_elec_daily['Demand'], label='Demand')\n",
    "ax1.set_ylabel('Demand (GW)')\n",
    "ax1.set_title('Electricity Demand Over Time')\n",
    "\n",
    "ax2.plot(vic_elec_daily['Temperature'], label='Temperature', color='orange')\n",
    "ax2.set_ylabel('Temperature (°C)')\n",
    "ax2.set_title('Maximum Daily Temperature Over Time')\n",
    "\n",
    "ax2.set_xlabel('Date')\n",
    "\n",
    "plt.setp(ax2.get_xticklabels(), rotation=45, ha='right')\n",
    "plt.tight_layout()\n",
    "plt.show()"
   ]
  },
  {
   "cell_type": "markdown",
   "id": "14cac990",
   "metadata": {},
   "source": [
    "#### 외생 변수 영향 분석"
   ]
  },
  {
   "cell_type": "code",
   "execution_count": null,
   "id": "12df4b52",
   "metadata": {},
   "outputs": [],
   "source": [
    "plt.figure(figsize=(10, 6))\n",
    "plt.scatter(vic_elec_daily[vic_elec_daily[\"Day_Type\"] != 'Weekday'][\"Temperature\"], vic_elec_daily[vic_elec_daily[\"Day_Type\"] != 'Weekday'][\"Demand\"], color=\"g\", label=\"Playday\")\n",
    "plt.scatter(vic_elec_daily[vic_elec_daily[\"Day_Type\"] == 'Weekday'][\"Temperature\"], vic_elec_daily[vic_elec_daily[\"Day_Type\"] == 'Weekday'][\"Demand\"], color=\"b\", label=\"Weekday\")\n",
    "\n",
    "plt.xlabel('Maximum daily temperature (°C)')\n",
    "plt.ylabel('Electricity demand (GW)')\n",
    "plt.title('Electricity Demand vs. Temperature by Day Type')\n",
    "\n",
    "plt.grid(True)\n",
    "plt.show()"
   ]
  },
  {
   "cell_type": "markdown",
   "id": "3a5487a9",
   "metadata": {},
   "source": [
    "#### Adfuller test"
   ]
  },
  {
   "cell_type": "code",
   "execution_count": null,
   "id": "db5be5d1",
   "metadata": {},
   "outputs": [],
   "source": [
    "print(adfuller(vic_elec_daily[\"Demand\"][:-9])[1])"
   ]
  },
  {
   "cell_type": "markdown",
   "id": "0d8619bf",
   "metadata": {
    "id": "0d8619bf"
   },
   "source": [
    "#### 이차항 생성"
   ]
  },
  {
   "cell_type": "code",
   "execution_count": null,
   "id": "653a4949",
   "metadata": {},
   "outputs": [],
   "source": [
    "X = pd.DataFrame()\n",
    "X['Temperature'] = vic_elec_daily['Temperature']\n",
    "X[\"Temperature^2\"] = vic_elec_daily[\"Temperature\"] ** 2\n",
    "X[\"Weekday\"] = (vic_elec_daily['Day_Type'] == 'Weekday').astype(int)"
   ]
  },
  {
   "cell_type": "markdown",
   "id": "bddee0c3",
   "metadata": {},
   "source": [
    "#### SARIMA 파라미터 최적화 함수"
   ]
  },
  {
   "cell_type": "code",
   "execution_count": null,
   "id": "74d3220e",
   "metadata": {},
   "outputs": [],
   "source": [
    "def SARIMAX_optimizer(y, X):\n",
    "    result= []\n",
    "    for p in range(4):\n",
    "        for q in range(4):\n",
    "            for P in range(6):\n",
    "                for Q in range(6-P):\n",
    "                    try:\n",
    "                        model = SARIMAX(y, X, order=(p, 1, q), simple_differencing=False, seasonal_order=(P, 0, Q, 7)).fit(dips=False)\n",
    "                    except:\n",
    "                        continue\n",
    "\n",
    "                    aic = model.aic\n",
    "                    result.append([p, q, P, Q, aic])\n",
    "\n",
    "    result_df = pd.DataFrame(result)\n",
    "    result_df.columns = ['p', 'q', 'P', 'Q', 'AIC']\n",
    "    result_df = result_df.sort_values(by='AIC', ascending=True).reset_index(drop=True)\n",
    "\n",
    "    return result_df"
   ]
  },
  {
   "cell_type": "markdown",
   "id": "b87ed09b",
   "metadata": {},
   "source": [
    "#### 오차 차수 최적화"
   ]
  },
  {
   "cell_type": "code",
   "execution_count": null,
   "id": "056dc1b5",
   "metadata": {},
   "outputs": [],
   "source": [
    "result = SARIMAX_optimizer(vic_elec_daily[\"Demand\"][:-9], X[:-9])\n",
    "result"
   ]
  },
  {
   "cell_type": "markdown",
   "id": "fceb6078",
   "metadata": {},
   "source": [
    "#### SARIMAX 모델 적합"
   ]
  },
  {
   "cell_type": "code",
   "execution_count": null,
   "id": "b8d4a261",
   "metadata": {
    "id": "b8d4a261",
    "outputId": "0dcff885-93b3-4328-bbe9-e9022541b6fd",
    "scrolled": false
   },
   "outputs": [],
   "source": [
    "model = SARIMAX(vic_elec_daily[\"Demand\"][:-9], exog=X[:-9], order=(3, 0, 2), simple_differencing=False, seasonal_order=(2, 0, 2, 7))\n",
    "fit = model.fit(disp=False)\n",
    "print(fit.summary())"
   ]
  },
  {
   "cell_type": "markdown",
   "id": "68a0462b",
   "metadata": {},
   "source": [
    "#### 잔차 확인"
   ]
  },
  {
   "cell_type": "code",
   "execution_count": null,
   "id": "a8d55323",
   "metadata": {},
   "outputs": [],
   "source": [
    "fit.plot_diagnostics(figsize=(10,8))\n",
    "plt.tight_layout()\n",
    "plt.show()"
   ]
  },
  {
   "cell_type": "markdown",
   "id": "2ef25a28",
   "metadata": {
    "id": "2ef25a28"
   },
   "source": [
    "#### SARIMAX 예측"
   ]
  },
  {
   "cell_type": "code",
   "execution_count": null,
   "id": "fdc397e7",
   "metadata": {
    "id": "fdc397e7",
    "outputId": "0344ed58-61d0-406c-a7c9-54c4f64be57d"
   },
   "outputs": [],
   "source": [
    "forecast_result = fit.get_forecast(steps=9, exog=X[-9:])\n",
    "forecast_mean = forecast_result.predicted_mean\n",
    "lower_ci80 = forecast_result.conf_int(alpha=0.2).iloc[:, 0]\n",
    "upper_ci80 = forecast_result.conf_int(alpha=0.2).iloc[:, 1]\n",
    "lower_ci95 = forecast_result.conf_int(alpha=0.05).iloc[:, 0]\n",
    "upper_ci95 = forecast_result.conf_int(alpha=0.05).iloc[:, 1]"
   ]
  },
  {
   "cell_type": "markdown",
   "id": "1c2919cf",
   "metadata": {},
   "source": [
    "#### 예측 시각화"
   ]
  },
  {
   "cell_type": "code",
   "execution_count": null,
   "id": "590e3f10",
   "metadata": {},
   "outputs": [],
   "source": [
    "plt.figure(figsize=(10, 6))\n",
    "plt.plot(vic_elec_daily['Demand'][:-9], label='Observation', color='black')\n",
    "plt.plot(forecast_mean, label='Forecast', color='b')\n",
    "plt.fill_between(forecast_mean.index, lower_ci80, upper_ci80, label='80% CI', color='b', alpha=.2)\n",
    "plt.fill_between(forecast_mean.index, lower_ci95, upper_ci95, label='95% CI', color='b', alpha=.1)\n",
    "plt.xlabel('Date')\n",
    "plt.ylabel('GW')\n",
    "plt.title('Daily Electricity Demand')\n",
    "plt.grid(True)\n",
    "plt.legend()\n",
    "plt.show()"
   ]
  },
  {
   "cell_type": "markdown",
   "id": "960b4d29",
   "metadata": {
    "id": "960b4d29"
   },
   "source": [
    "## 예제 8-2. VAR 모델 예시"
   ]
  },
  {
   "cell_type": "markdown",
   "id": "0ab23e10",
   "metadata": {},
   "source": [
    "### 미국 가처분 소득 변화와 실질 소비 변화 데이터 VAR 모델 적합 후 예측"
   ]
  },
  {
   "cell_type": "markdown",
   "id": "26431e30",
   "metadata": {},
   "source": [
    "#### 필요한 패키지 불러오기"
   ]
  },
  {
   "cell_type": "code",
   "execution_count": null,
   "id": "fa63962d",
   "metadata": {},
   "outputs": [],
   "source": [
    "import pandas as pd\n",
    "import numpy as np\n",
    "import matplotlib.pyplot as plt\n",
    "from statsmodels.tsa.stattools import adfuller\n",
    "import statsmodels.api as sm\n",
    "from statsmodels.tsa.statespace.varmax import VARMAX\n",
    "from statsmodels.tsa.stattools import grangercausalitytests\n",
    "\n",
    "import warnings\n",
    "warnings.filterwarnings('ignore')"
   ]
  },
  {
   "cell_type": "markdown",
   "id": "0922196a",
   "metadata": {},
   "source": [
    "#### 데이터 불러오기"
   ]
  },
  {
   "cell_type": "code",
   "execution_count": null,
   "id": "09e69e22",
   "metadata": {},
   "outputs": [],
   "source": [
    "macro_econ_data = sm.datasets.macrodata.load_pandas().data\n",
    "dpi_cons_quarter = macro_econ_data[['realdpi', 'realcons']]\n",
    "dpi_cons_quarter.index = pd.date_range(start='1959/01/01', end='2009/09/30', freq='3MS')\n",
    "dpi_cons_quarter"
   ]
  },
  {
   "cell_type": "markdown",
   "id": "9cb05b65",
   "metadata": {},
   "source": [
    "#### 데이터 시각화"
   ]
  },
  {
   "cell_type": "code",
   "execution_count": null,
   "id": "bb77ac39",
   "metadata": {},
   "outputs": [],
   "source": [
    "plt.figure(figsize=(10, 6))\n",
    "plt.plot(dpi_cons_quarter['realdpi'],  color='b', label='Real DPI')\n",
    "plt.plot(dpi_cons_quarter['realcons'],  color='g', label='Real Consumption')\n",
    "plt.xlabel(\"Date\")\n",
    "plt.ylabel(\"Value (k$)\")\n",
    "plt.title(\"Real Disposable Income and Real Consumption Over Time\")\n",
    "plt.grid(True)\n",
    "plt.legend()\n",
    "plt.show()"
   ]
  },
  {
   "cell_type": "markdown",
   "id": "d37f3e42",
   "metadata": {},
   "source": [
    "#### 1차 차분 데이터 시각화"
   ]
  },
  {
   "cell_type": "code",
   "execution_count": null,
   "id": "9c651d40",
   "metadata": {},
   "outputs": [],
   "source": [
    "fig, (ax1, ax2) = plt.subplots(2, 1, figsize=(12, 8), sharex=True)\n",
    "\n",
    "ax1.plot(dpi_cons_quarter['realdpi'].diff()[1:], label='Real DPI')\n",
    "ax1.set_ylabel('Value (k$)')\n",
    "ax1.set_title('Differentiate Real Disposable Income Over Time')\n",
    "\n",
    "ax2.plot(dpi_cons_quarter['realcons'].diff()[1:], label='Real Consumption', color='orange')\n",
    "ax2.set_ylabel('Value (k$)')\n",
    "ax2.set_title('Differentiate Real Consumption Over Time')\n",
    "\n",
    "ax2.set_xlabel('Date')\n",
    "\n",
    "plt.setp(ax2.get_xticklabels(), rotation=45, ha='right')\n",
    "plt.tight_layout()"
   ]
  },
  {
   "cell_type": "markdown",
   "id": "8b954db2",
   "metadata": {},
   "source": [
    "#### Adfuller test"
   ]
  },
  {
   "cell_type": "code",
   "execution_count": null,
   "id": "5d11025c",
   "metadata": {
    "id": "5d11025c",
    "outputId": "36b0f180-19a4-457d-e8c1-b9712cd06b71"
   },
   "outputs": [],
   "source": [
    "print(adfuller(dpi_cons_quarter['realdpi'].diff()[1:][:180])[1])\n",
    "print(adfuller(dpi_cons_quarter['realcons'].diff()[1:][:180])[1])"
   ]
  },
  {
   "cell_type": "markdown",
   "id": "79b67ed8",
   "metadata": {
    "id": "79b67ed8"
   },
   "source": [
    "#### VAR 파라미터 최적화 함수"
   ]
  },
  {
   "cell_type": "code",
   "execution_count": null,
   "id": "72527263",
   "metadata": {
    "id": "72527263",
    "outputId": "20c14a2a-759c-41eb-8ed4-892fd6ec58f5"
   },
   "outputs": [],
   "source": [
    "def VAR_optimizer(series):\n",
    "    result= []\n",
    "    for p in range(10):\n",
    "        try:\n",
    "            model = VARMAX(series, order=(p, 0)).fit(dips=False)\n",
    "        except:\n",
    "            continue\n",
    "\n",
    "        aic = model.aic\n",
    "        result.append([p, aic])\n",
    "\n",
    "    result_df = pd.DataFrame(result)\n",
    "    result_df.columns = ['p', 'AIC']\n",
    "    result_df = result_df.sort_values(by='AIC', ascending=True).reset_index(drop=True)\n",
    "\n",
    "    return result_df"
   ]
  },
  {
   "cell_type": "markdown",
   "id": "744f2e52",
   "metadata": {},
   "source": [
    "#### VAR 파라미터 최적화"
   ]
  },
  {
   "cell_type": "code",
   "execution_count": null,
   "id": "14b12d4e",
   "metadata": {},
   "outputs": [],
   "source": [
    "result = VAR_optimizer(dpi_cons_quarter.diff()[1:][:180])\n",
    "result"
   ]
  },
  {
   "cell_type": "markdown",
   "id": "11e56c77",
   "metadata": {},
   "source": [
    "#### VAR 파라미터 최적화 시각화"
   ]
  },
  {
   "cell_type": "code",
   "execution_count": null,
   "id": "5fe7671e",
   "metadata": {},
   "outputs": [],
   "source": [
    "result = result.sort_values(by='p', ascending=True).reset_index(drop=True)\n",
    "plt.figure(figsize=(10, 6))\n",
    "plt.plot(result['p'], result['AIC'], color='b', )\n",
    "plt.xlabel(\"Order\")\n",
    "plt.ylabel(\"AIC\")\n",
    "plt.title(\"VAR Optimize\")\n",
    "plt.show()"
   ]
  },
  {
   "cell_type": "markdown",
   "id": "0c455091",
   "metadata": {
    "id": "0c455091"
   },
   "source": [
    "#### 그레인저 인과관계 테스트"
   ]
  },
  {
   "cell_type": "code",
   "execution_count": null,
   "id": "5786d6b4",
   "metadata": {
    "id": "5786d6b4",
    "outputId": "506fd6bd-45f8-40ab-fce3-1231531a9aba"
   },
   "outputs": [],
   "source": [
    "print(grangercausalitytests(dpi_cons_quarter[['realdpi', 'realcons']].diff()[1:][:180], [3]))\n",
    "print(grangercausalitytests(dpi_cons_quarter[['realcons', 'realdpi']].diff()[1:][:180], [3]))"
   ]
  },
  {
   "cell_type": "markdown",
   "id": "48082cd4",
   "metadata": {},
   "source": [
    "#### VAR 모델 적합"
   ]
  },
  {
   "cell_type": "code",
   "execution_count": null,
   "id": "b54c0ebe",
   "metadata": {
    "id": "b54c0ebe",
    "outputId": "d6bfae9c-9c5a-469e-e8e7-e832b712bc05"
   },
   "outputs": [],
   "source": [
    "model = VARMAX(dpi_cons_quarter.diff()[1:][:180], order=(3, 0))\n",
    "fit = model.fit()\n",
    "print(fit.summary())"
   ]
  },
  {
   "cell_type": "markdown",
   "id": "ecd9ed41",
   "metadata": {},
   "source": [
    "#### 가처분 소득 데이터 VAR 모델 적합 후 잔차 확인"
   ]
  },
  {
   "cell_type": "code",
   "execution_count": null,
   "id": "cc2d7248",
   "metadata": {},
   "outputs": [],
   "source": [
    "fit.plot_diagnostics(figsize=(10,8), variable=0)\n",
    "plt.tight_layout()\n",
    "plt.show()"
   ]
  },
  {
   "cell_type": "markdown",
   "id": "f31de8f9",
   "metadata": {},
   "source": [
    "#### 미국 실질 소비 데이터 VAR 모델 적합 후 잔차 확인"
   ]
  },
  {
   "cell_type": "code",
   "execution_count": null,
   "id": "326374bb",
   "metadata": {},
   "outputs": [],
   "source": [
    "fit.plot_diagnostics(figsize=(10,8), variable=1)\n",
    "plt.tight_layout()\n",
    "plt.show()"
   ]
  },
  {
   "cell_type": "markdown",
   "id": "5f2e4ff0",
   "metadata": {},
   "source": [
    "#### VAR 모델 예측"
   ]
  },
  {
   "cell_type": "code",
   "execution_count": null,
   "id": "9330557f",
   "metadata": {},
   "outputs": [],
   "source": [
    "forecast_result = fit.get_forecast(steps=22)\n",
    "\n",
    "forecast_mean = forecast_result.predicted_mean\n",
    "cum_forecast_result = forecast_mean.cumsum()\n",
    "cum_forecast_result['realdpi'] = cum_forecast_result['realdpi'] + dpi_cons_quarter.iloc[179, 0]\n",
    "cum_forecast_result['realcons'] = cum_forecast_result['realcons'] + dpi_cons_quarter.iloc[179, 1]"
   ]
  },
  {
   "cell_type": "markdown",
   "id": "9b19add4",
   "metadata": {},
   "source": [
    "#### 가처분 소득 데이터 신뢰구간"
   ]
  },
  {
   "cell_type": "code",
   "execution_count": null,
   "id": "66579010",
   "metadata": {},
   "outputs": [],
   "source": [
    "lower_ci80 = forecast_result.conf_int(alpha=0.2).iloc[:, 0]\n",
    "upper_ci80 = forecast_result.conf_int(alpha=0.2).iloc[:, 2]\n",
    "lower_ci95 = forecast_result.conf_int(alpha=0.05).iloc[:, 0]\n",
    "upper_ci95 = forecast_result.conf_int(alpha=0.05).iloc[:, 2]"
   ]
  },
  {
   "cell_type": "markdown",
   "id": "d86653ba",
   "metadata": {},
   "source": [
    "#### 가처분 소득 예측 시각화"
   ]
  },
  {
   "cell_type": "code",
   "execution_count": null,
   "id": "d4f503a4",
   "metadata": {},
   "outputs": [],
   "source": [
    "fig, (ax1, ax2) = plt.subplots(2, 1, figsize=(12, 8), sharex=True)\n",
    "\n",
    "ax1.plot(dpi_cons_quarter['realdpi'].diff()[1:], label='Observation', color='black')\n",
    "ax1.plot(forecast_mean['realdpi'], label='forcast', color='b')\n",
    "ax1.fill_between(forecast_mean.index, lower_ci80, upper_ci80, label='80% CI', color='b', alpha=.2)\n",
    "ax1.fill_between(forecast_mean.index, lower_ci95, upper_ci95, label='95% CI', color='b', alpha=.1)\n",
    "ax1.set_ylabel('Value (k$)')\n",
    "ax1.set_title('Forcasting Differentiate Real Disposable Income Over Time')\n",
    "\n",
    "ax2.plot(dpi_cons_quarter['realdpi'], label='Observation', color='black')\n",
    "ax2.plot(cum_forecast_result['realdpi'], label='forcast', color='b')\n",
    "ax2.set_ylabel('Value (k$)')\n",
    "ax2.set_title('Forcasting Real Disposable Income Over Time')\n",
    "\n",
    "ax2.set_xlabel('Date')\n",
    "\n",
    "plt.setp(ax2.get_xticklabels(), rotation=45, ha='right')\n",
    "plt.legend()\n",
    "plt.grid(True)\n",
    "plt.tight_layout()"
   ]
  },
  {
   "cell_type": "markdown",
   "id": "da81f5fa",
   "metadata": {},
   "source": [
    "#### 미국 실질소비 소득 데이터 신뢰구간"
   ]
  },
  {
   "cell_type": "code",
   "execution_count": null,
   "id": "e7c625f2",
   "metadata": {},
   "outputs": [],
   "source": [
    "lower_ci80 = forecast_result.conf_int(alpha=0.2).iloc[:, 1]\n",
    "upper_ci80 = forecast_result.conf_int(alpha=0.2).iloc[:, 3]\n",
    "lower_ci95 = forecast_result.conf_int(alpha=0.05).iloc[:, 1]\n",
    "upper_ci95 = forecast_result.conf_int(alpha=0.05).iloc[:, 3]"
   ]
  },
  {
   "cell_type": "markdown",
   "id": "8220e32e",
   "metadata": {},
   "source": [
    "#### 미국 실질소비 소득 예측 시각화"
   ]
  },
  {
   "cell_type": "code",
   "execution_count": null,
   "id": "e35fec6d",
   "metadata": {},
   "outputs": [],
   "source": [
    "fig, (ax1, ax2) = plt.subplots(2, 1, figsize=(12, 8), sharex=True)\n",
    "\n",
    "ax1.plot(dpi_cons_quarter['realcons'].diff()[1:], label='Observation', color='black')\n",
    "ax1.plot(forecast_mean['realcons'], label='forcast', color='b')\n",
    "ax1.fill_between(forecast_mean.index, lower_ci80, upper_ci80, label='80% CI', color='b', alpha=.2)\n",
    "ax1.fill_between(forecast_mean.index, lower_ci95, upper_ci95, label='95% CI', color='b', alpha=.1)\n",
    "ax1.set_ylabel('Value (k$)')\n",
    "ax1.set_title('Forcasting Differentiate Real Consumption Over Time')\n",
    "\n",
    "ax2.plot(dpi_cons_quarter['realcons'], label='Observation', color='black')\n",
    "ax2.plot(cum_forecast_result['realcons'], label='forcast', color='b')\n",
    "ax2.set_ylabel('Value (k$)')\n",
    "ax2.set_title('Forcasting Real Consumption Over Time')\n",
    "\n",
    "ax2.set_xlabel('Date')\n",
    "\n",
    "plt.setp(ax2.get_xticklabels(), rotation=45, ha='right')\n",
    "plt.legend()\n",
    "plt.grid(True)\n",
    "plt.tight_layout()"
   ]
  }
 ],
 "metadata": {
  "colab": {
   "include_colab_link": true,
   "provenance": []
  },
  "kernelspec": {
   "display_name": "Python 3 (ipykernel)",
   "language": "python",
   "name": "python3"
  },
  "language_info": {
   "codemirror_mode": {
    "name": "ipython",
    "version": 3
   },
   "file_extension": ".py",
   "mimetype": "text/x-python",
   "name": "python",
   "nbconvert_exporter": "python",
   "pygments_lexer": "ipython3",
   "version": "3.11.4"
  }
 },
 "nbformat": 4,
 "nbformat_minor": 5
}
