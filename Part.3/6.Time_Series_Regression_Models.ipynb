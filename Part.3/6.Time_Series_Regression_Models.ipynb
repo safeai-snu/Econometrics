{
 "cells": [
  {
   "cell_type": "markdown",
   "id": "4d6c892d",
   "metadata": {},
   "source": [
    "<a href=\"https://colab.research.google.com/github/safeai-snu/Econometrics/blob/main/Part.3/6.Time_Series_Regression_Models.ipynb\" target=\"_parent\"><img src=\"https://colab.research.google.com/assets/colab-badge.svg\" alt=\"Open In Colab\"/></a>"
   ]
  },
  {
   "cell_type": "markdown",
   "id": "5fc57b23",
   "metadata": {},
   "source": [
    "## 예제 6-1. 간단한 예측 방법 예시"
   ]
  },
  {
   "cell_type": "markdown",
   "id": "2d51fc67",
   "metadata": {},
   "source": [
    "### 호주 생산량 데이터 예측"
   ]
  },
  {
   "cell_type": "markdown",
   "id": "4b5bc729",
   "metadata": {},
   "source": [
    "#### 필요한 패키지 불러오기"
   ]
  },
  {
   "cell_type": "code",
   "execution_count": null,
   "id": "b679c0f7",
   "metadata": {},
   "outputs": [],
   "source": [
    "import pandas as pd\n",
    "import matplotlib.pyplot as plt"
   ]
  },
  {
   "cell_type": "markdown",
   "id": "0f139fb3",
   "metadata": {},
   "source": [
    "#### 데이터 전처리"
   ]
  },
  {
   "cell_type": "code",
   "execution_count": null,
   "id": "591d6939",
   "metadata": {},
   "outputs": [],
   "source": [
    "def parse_quarter_string(q):\n",
    "    \"\"\"\n",
    "    Converts a quarter string 'YYYY Qq' to a datetime object.\n",
    "    \"\"\"\n",
    "    year, quarter = q.split(' Q')\n",
    "    first_month_of_quarter = 3 * int(quarter) - 2\n",
    "    return f\"{year}-{first_month_of_quarter}-01\"\n",
    "\n",
    "aus_production = pd.read_csv('https://raw.githubusercontent.com/safeai-snu/Econometrics/refs/heads/main/Part.3/data/aus_production.csv')\n",
    "aus_production['Quarter'] = aus_production['Quarter'].apply(parse_quarter_string)\n",
    "aus_production['Quarter'] = pd.to_datetime(aus_production['Quarter'])\n",
    "aus_production.set_index('Quarter', inplace=True)"
   ]
  },
  {
   "cell_type": "markdown",
   "id": "914cc821",
   "metadata": {},
   "source": [
    "#### Naive forecasting"
   ]
  },
  {
   "cell_type": "code",
   "execution_count": null,
   "id": "9b35ef3c",
   "metadata": {},
   "outputs": [],
   "source": [
    "aus_production['Naive'] = aus_production['Bricks'].shift(1)"
   ]
  },
  {
   "cell_type": "markdown",
   "id": "36d66f04",
   "metadata": {},
   "source": [
    "#### Naive seasonal forecasting"
   ]
  },
  {
   "cell_type": "code",
   "execution_count": null,
   "id": "b2e19864",
   "metadata": {},
   "outputs": [],
   "source": [
    "seasonality = 4\n",
    "aus_production['Naive_Seasonal'] = aus_production['Bricks'].shift(seasonality)"
   ]
  },
  {
   "cell_type": "markdown",
   "id": "bf2b3191",
   "metadata": {},
   "source": [
    "#### Mean method"
   ]
  },
  {
   "cell_type": "code",
   "execution_count": null,
   "id": "39d93bf9",
   "metadata": {},
   "outputs": [],
   "source": [
    "aus_production['Mean'] = aus_production['Bricks'].expanding().mean()"
   ]
  },
  {
   "cell_type": "markdown",
   "id": "b9f41608",
   "metadata": {},
   "source": [
    "#### 예측"
   ]
  },
  {
   "cell_type": "code",
   "execution_count": null,
   "id": "2e83b6ce",
   "metadata": {},
   "outputs": [],
   "source": [
    "forecast_start = '2000-01-01'\n",
    "naive_mask = (aus_production.index >= forecast_start)\n",
    "naive_seasonal_mask = (aus_production.index >= forecast_start)\n",
    "mean_mask = (aus_production.index >= forecast_start)"
   ]
  },
  {
   "cell_type": "markdown",
   "id": "fb9155d7",
   "metadata": {},
   "source": [
    "#### 시각화"
   ]
  },
  {
   "cell_type": "code",
   "execution_count": null,
   "id": "4196b33a",
   "metadata": {},
   "outputs": [],
   "source": [
    "plt.figure(figsize=(20,6))\n",
    "\n",
    "plt.subplot(131)\n",
    "plt.plot(aus_production['Bricks'], label='Actual', color='black')\n",
    "plt.plot(aus_production.index[naive_mask], aus_production['Naive'][naive_mask], label='Naive Forecast', color='blue')\n",
    "plt.title('Naive Method')\n",
    "plt.legend()\n",
    "\n",
    "plt.subplot(132)\n",
    "plt.plot(aus_production['Bricks'], label='Actual', color='black')\n",
    "plt.plot(aus_production.index[naive_seasonal_mask], aus_production['Naive_Seasonal'][naive_seasonal_mask], label='Naive Seasonal Forecast', color='blue')\n",
    "plt.title('Naive Seasonal Method')\n",
    "plt.legend()\n",
    "\n",
    "plt.subplot(133)\n",
    "plt.plot(aus_production['Bricks'], label='Actual', color='black')\n",
    "plt.plot(aus_production.index[mean_mask], aus_production['Mean'][mean_mask], label='Mean Forecast', color='blue')\n",
    "plt.title('Mean Method')\n",
    "plt.legend()\n",
    "\n",
    "plt.tight_layout()\n",
    "plt.show()"
   ]
  },
  {
   "cell_type": "markdown",
   "id": "8ec32baa",
   "metadata": {},
   "source": [
    "## 예제 6-2. 선형회귀 예시"
   ]
  },
  {
   "cell_type": "markdown",
   "id": "74b579ef",
   "metadata": {},
   "source": [
    "### 호주 생산량 데이터 선형 회귀"
   ]
  },
  {
   "cell_type": "markdown",
   "id": "cff7e221",
   "metadata": {},
   "source": [
    "#### 필요한 패키지 불러오기"
   ]
  },
  {
   "cell_type": "code",
   "execution_count": null,
   "id": "3be323e8",
   "metadata": {},
   "outputs": [],
   "source": [
    "import pandas as pd\n",
    "import numpy as np\n",
    "import statsmodels.api as sm\n",
    "import matplotlib.pyplot as plt"
   ]
  },
  {
   "cell_type": "markdown",
   "id": "f51cefbc",
   "metadata": {},
   "source": [
    "#### 데이터 전처리"
   ]
  },
  {
   "cell_type": "code",
   "execution_count": null,
   "id": "5b382f14",
   "metadata": {},
   "outputs": [],
   "source": [
    "aus_production = pd.read_csv('https://raw.githubusercontent.com/safeai-snu/Econometrics/refs/heads/main/Part.3/data/aus_production.csv')\n",
    "aus_production['Quarter'] = aus_production['Quarter'].apply(parse_quarter_string)\n",
    "aus_production['Quarter'] = pd.to_datetime(aus_production['Quarter'])\n",
    "aus_production.set_index('Quarter', inplace=True)\n",
    "aus_production['Time_Index'] = np.arange(len(aus_production))"
   ]
  },
  {
   "cell_type": "markdown",
   "id": "d125637e",
   "metadata": {},
   "source": [
    "#### 선형회귀 모델"
   ]
  },
  {
   "cell_type": "code",
   "execution_count": null,
   "id": "2616a134",
   "metadata": {},
   "outputs": [],
   "source": [
    "X = sm.add_constant(aus_production['Time_Index'])\n",
    "y = aus_production['Bricks']\n",
    "\n",
    "model = sm.OLS(y, X, missing='drop').fit()  \n",
    "\n",
    "aus_production['Linear_Forecast'] = model.predict(X)"
   ]
  },
  {
   "cell_type": "markdown",
   "id": "688e829c",
   "metadata": {},
   "source": [
    "#### 시각화"
   ]
  },
  {
   "cell_type": "code",
   "execution_count": null,
   "id": "d75368b3",
   "metadata": {
    "scrolled": false
   },
   "outputs": [],
   "source": [
    "plt.figure(figsize=(12, 6))\n",
    "plt.plot(aus_production['Bricks'], label='Actual', color='black')\n",
    "plt.plot(aus_production['Linear_Forecast'], label='Linear Forecast', color='red', linestyle='--')\n",
    "plt.title('Linear Regression Forecast')\n",
    "plt.xlabel('Quarter')\n",
    "plt.ylabel('Bricks')\n",
    "plt.legend()\n",
    "plt.show()"
   ]
  },
  {
   "cell_type": "markdown",
   "id": "ff81ed58",
   "metadata": {},
   "source": [
    "## 예제 6-3. 부트스트랩 예시"
   ]
  },
  {
   "cell_type": "markdown",
   "id": "cf47ed60",
   "metadata": {},
   "source": [
    "### 애플 주가 데이터 부트스트랩"
   ]
  },
  {
   "cell_type": "markdown",
   "id": "18f063fe",
   "metadata": {},
   "source": [
    "#### 필요한 패키지 불러오기"
   ]
  },
  {
   "cell_type": "code",
   "execution_count": 1,
   "id": "b5e9770f",
   "metadata": {},
   "outputs": [],
   "source": [
    "import pandas as pd\n",
    "import numpy as np\n",
    "import matplotlib.pyplot as plt"
   ]
  },
  {
   "cell_type": "markdown",
   "id": "73c27d1f",
   "metadata": {},
   "source": [
    "#### 애플(AAPL) 주식 데이터 가져오기"
   ]
  },
  {
   "cell_type": "code",
   "execution_count": null,
   "id": "5e936b22",
   "metadata": {},
   "outputs": [
    {
     "ename": "HTTPError",
     "evalue": "HTTP Error 404: Not Found",
     "output_type": "error",
     "traceback": [
      "\u001b[1;31m---------------------------------------------------------------------------\u001b[0m",
      "\u001b[1;31mHTTPError\u001b[0m                                 Traceback (most recent call last)",
      "Cell \u001b[1;32mIn[2], line 4\u001b[0m\n\u001b[0;32m      1\u001b[0m start_date \u001b[38;5;241m=\u001b[39m \u001b[38;5;124m\"\u001b[39m\u001b[38;5;124m2018-01-01\u001b[39m\u001b[38;5;124m\"\u001b[39m\n\u001b[0;32m      2\u001b[0m end_date \u001b[38;5;241m=\u001b[39m \u001b[38;5;124m\"\u001b[39m\u001b[38;5;124m2023-12-31\u001b[39m\u001b[38;5;124m\"\u001b[39m\n\u001b[1;32m----> 4\u001b[0m stock \u001b[38;5;241m=\u001b[39m \u001b[43mpd\u001b[49m\u001b[38;5;241;43m.\u001b[39;49m\u001b[43mread_csv\u001b[49m\u001b[43m(\u001b[49m\u001b[38;5;124;43m\"\u001b[39;49m\u001b[38;5;124;43mhttps://raw.githubusercontent.com/safeai-snu/Econometrics/refs/heads/main/Part.3/data/AAPL_stock.csv\u001b[39;49m\u001b[38;5;124;43m\"\u001b[39;49m\u001b[43m)\u001b[49m\n\u001b[0;32m      5\u001b[0m stock \u001b[38;5;241m=\u001b[39m stock\u001b[38;5;241m.\u001b[39mloc[start_date:end_date]\n",
      "File \u001b[1;32mc:\\Users\\Youngjoo\\anaconda3\\envs\\ts\\Lib\\site-packages\\pandas\\io\\parsers\\readers.py:1026\u001b[0m, in \u001b[0;36mread_csv\u001b[1;34m(filepath_or_buffer, sep, delimiter, header, names, index_col, usecols, dtype, engine, converters, true_values, false_values, skipinitialspace, skiprows, skipfooter, nrows, na_values, keep_default_na, na_filter, verbose, skip_blank_lines, parse_dates, infer_datetime_format, keep_date_col, date_parser, date_format, dayfirst, cache_dates, iterator, chunksize, compression, thousands, decimal, lineterminator, quotechar, quoting, doublequote, escapechar, comment, encoding, encoding_errors, dialect, on_bad_lines, delim_whitespace, low_memory, memory_map, float_precision, storage_options, dtype_backend)\u001b[0m\n\u001b[0;32m   1013\u001b[0m kwds_defaults \u001b[38;5;241m=\u001b[39m _refine_defaults_read(\n\u001b[0;32m   1014\u001b[0m     dialect,\n\u001b[0;32m   1015\u001b[0m     delimiter,\n\u001b[1;32m   (...)\u001b[0m\n\u001b[0;32m   1022\u001b[0m     dtype_backend\u001b[38;5;241m=\u001b[39mdtype_backend,\n\u001b[0;32m   1023\u001b[0m )\n\u001b[0;32m   1024\u001b[0m kwds\u001b[38;5;241m.\u001b[39mupdate(kwds_defaults)\n\u001b[1;32m-> 1026\u001b[0m \u001b[38;5;28;01mreturn\u001b[39;00m \u001b[43m_read\u001b[49m\u001b[43m(\u001b[49m\u001b[43mfilepath_or_buffer\u001b[49m\u001b[43m,\u001b[49m\u001b[43m \u001b[49m\u001b[43mkwds\u001b[49m\u001b[43m)\u001b[49m\n",
      "File \u001b[1;32mc:\\Users\\Youngjoo\\anaconda3\\envs\\ts\\Lib\\site-packages\\pandas\\io\\parsers\\readers.py:620\u001b[0m, in \u001b[0;36m_read\u001b[1;34m(filepath_or_buffer, kwds)\u001b[0m\n\u001b[0;32m    617\u001b[0m _validate_names(kwds\u001b[38;5;241m.\u001b[39mget(\u001b[38;5;124m\"\u001b[39m\u001b[38;5;124mnames\u001b[39m\u001b[38;5;124m\"\u001b[39m, \u001b[38;5;28;01mNone\u001b[39;00m))\n\u001b[0;32m    619\u001b[0m \u001b[38;5;66;03m# Create the parser.\u001b[39;00m\n\u001b[1;32m--> 620\u001b[0m parser \u001b[38;5;241m=\u001b[39m \u001b[43mTextFileReader\u001b[49m\u001b[43m(\u001b[49m\u001b[43mfilepath_or_buffer\u001b[49m\u001b[43m,\u001b[49m\u001b[43m \u001b[49m\u001b[38;5;241;43m*\u001b[39;49m\u001b[38;5;241;43m*\u001b[39;49m\u001b[43mkwds\u001b[49m\u001b[43m)\u001b[49m\n\u001b[0;32m    622\u001b[0m \u001b[38;5;28;01mif\u001b[39;00m chunksize \u001b[38;5;129;01mor\u001b[39;00m iterator:\n\u001b[0;32m    623\u001b[0m     \u001b[38;5;28;01mreturn\u001b[39;00m parser\n",
      "File \u001b[1;32mc:\\Users\\Youngjoo\\anaconda3\\envs\\ts\\Lib\\site-packages\\pandas\\io\\parsers\\readers.py:1620\u001b[0m, in \u001b[0;36mTextFileReader.__init__\u001b[1;34m(self, f, engine, **kwds)\u001b[0m\n\u001b[0;32m   1617\u001b[0m     \u001b[38;5;28mself\u001b[39m\u001b[38;5;241m.\u001b[39moptions[\u001b[38;5;124m\"\u001b[39m\u001b[38;5;124mhas_index_names\u001b[39m\u001b[38;5;124m\"\u001b[39m] \u001b[38;5;241m=\u001b[39m kwds[\u001b[38;5;124m\"\u001b[39m\u001b[38;5;124mhas_index_names\u001b[39m\u001b[38;5;124m\"\u001b[39m]\n\u001b[0;32m   1619\u001b[0m \u001b[38;5;28mself\u001b[39m\u001b[38;5;241m.\u001b[39mhandles: IOHandles \u001b[38;5;241m|\u001b[39m \u001b[38;5;28;01mNone\u001b[39;00m \u001b[38;5;241m=\u001b[39m \u001b[38;5;28;01mNone\u001b[39;00m\n\u001b[1;32m-> 1620\u001b[0m \u001b[38;5;28mself\u001b[39m\u001b[38;5;241m.\u001b[39m_engine \u001b[38;5;241m=\u001b[39m \u001b[38;5;28;43mself\u001b[39;49m\u001b[38;5;241;43m.\u001b[39;49m\u001b[43m_make_engine\u001b[49m\u001b[43m(\u001b[49m\u001b[43mf\u001b[49m\u001b[43m,\u001b[49m\u001b[43m \u001b[49m\u001b[38;5;28;43mself\u001b[39;49m\u001b[38;5;241;43m.\u001b[39;49m\u001b[43mengine\u001b[49m\u001b[43m)\u001b[49m\n",
      "File \u001b[1;32mc:\\Users\\Youngjoo\\anaconda3\\envs\\ts\\Lib\\site-packages\\pandas\\io\\parsers\\readers.py:1880\u001b[0m, in \u001b[0;36mTextFileReader._make_engine\u001b[1;34m(self, f, engine)\u001b[0m\n\u001b[0;32m   1878\u001b[0m     \u001b[38;5;28;01mif\u001b[39;00m \u001b[38;5;124m\"\u001b[39m\u001b[38;5;124mb\u001b[39m\u001b[38;5;124m\"\u001b[39m \u001b[38;5;129;01mnot\u001b[39;00m \u001b[38;5;129;01min\u001b[39;00m mode:\n\u001b[0;32m   1879\u001b[0m         mode \u001b[38;5;241m+\u001b[39m\u001b[38;5;241m=\u001b[39m \u001b[38;5;124m\"\u001b[39m\u001b[38;5;124mb\u001b[39m\u001b[38;5;124m\"\u001b[39m\n\u001b[1;32m-> 1880\u001b[0m \u001b[38;5;28mself\u001b[39m\u001b[38;5;241m.\u001b[39mhandles \u001b[38;5;241m=\u001b[39m \u001b[43mget_handle\u001b[49m\u001b[43m(\u001b[49m\n\u001b[0;32m   1881\u001b[0m \u001b[43m    \u001b[49m\u001b[43mf\u001b[49m\u001b[43m,\u001b[49m\n\u001b[0;32m   1882\u001b[0m \u001b[43m    \u001b[49m\u001b[43mmode\u001b[49m\u001b[43m,\u001b[49m\n\u001b[0;32m   1883\u001b[0m \u001b[43m    \u001b[49m\u001b[43mencoding\u001b[49m\u001b[38;5;241;43m=\u001b[39;49m\u001b[38;5;28;43mself\u001b[39;49m\u001b[38;5;241;43m.\u001b[39;49m\u001b[43moptions\u001b[49m\u001b[38;5;241;43m.\u001b[39;49m\u001b[43mget\u001b[49m\u001b[43m(\u001b[49m\u001b[38;5;124;43m\"\u001b[39;49m\u001b[38;5;124;43mencoding\u001b[39;49m\u001b[38;5;124;43m\"\u001b[39;49m\u001b[43m,\u001b[49m\u001b[43m \u001b[49m\u001b[38;5;28;43;01mNone\u001b[39;49;00m\u001b[43m)\u001b[49m\u001b[43m,\u001b[49m\n\u001b[0;32m   1884\u001b[0m \u001b[43m    \u001b[49m\u001b[43mcompression\u001b[49m\u001b[38;5;241;43m=\u001b[39;49m\u001b[38;5;28;43mself\u001b[39;49m\u001b[38;5;241;43m.\u001b[39;49m\u001b[43moptions\u001b[49m\u001b[38;5;241;43m.\u001b[39;49m\u001b[43mget\u001b[49m\u001b[43m(\u001b[49m\u001b[38;5;124;43m\"\u001b[39;49m\u001b[38;5;124;43mcompression\u001b[39;49m\u001b[38;5;124;43m\"\u001b[39;49m\u001b[43m,\u001b[49m\u001b[43m \u001b[49m\u001b[38;5;28;43;01mNone\u001b[39;49;00m\u001b[43m)\u001b[49m\u001b[43m,\u001b[49m\n\u001b[0;32m   1885\u001b[0m \u001b[43m    \u001b[49m\u001b[43mmemory_map\u001b[49m\u001b[38;5;241;43m=\u001b[39;49m\u001b[38;5;28;43mself\u001b[39;49m\u001b[38;5;241;43m.\u001b[39;49m\u001b[43moptions\u001b[49m\u001b[38;5;241;43m.\u001b[39;49m\u001b[43mget\u001b[49m\u001b[43m(\u001b[49m\u001b[38;5;124;43m\"\u001b[39;49m\u001b[38;5;124;43mmemory_map\u001b[39;49m\u001b[38;5;124;43m\"\u001b[39;49m\u001b[43m,\u001b[49m\u001b[43m \u001b[49m\u001b[38;5;28;43;01mFalse\u001b[39;49;00m\u001b[43m)\u001b[49m\u001b[43m,\u001b[49m\n\u001b[0;32m   1886\u001b[0m \u001b[43m    \u001b[49m\u001b[43mis_text\u001b[49m\u001b[38;5;241;43m=\u001b[39;49m\u001b[43mis_text\u001b[49m\u001b[43m,\u001b[49m\n\u001b[0;32m   1887\u001b[0m \u001b[43m    \u001b[49m\u001b[43merrors\u001b[49m\u001b[38;5;241;43m=\u001b[39;49m\u001b[38;5;28;43mself\u001b[39;49m\u001b[38;5;241;43m.\u001b[39;49m\u001b[43moptions\u001b[49m\u001b[38;5;241;43m.\u001b[39;49m\u001b[43mget\u001b[49m\u001b[43m(\u001b[49m\u001b[38;5;124;43m\"\u001b[39;49m\u001b[38;5;124;43mencoding_errors\u001b[39;49m\u001b[38;5;124;43m\"\u001b[39;49m\u001b[43m,\u001b[49m\u001b[43m \u001b[49m\u001b[38;5;124;43m\"\u001b[39;49m\u001b[38;5;124;43mstrict\u001b[39;49m\u001b[38;5;124;43m\"\u001b[39;49m\u001b[43m)\u001b[49m\u001b[43m,\u001b[49m\n\u001b[0;32m   1888\u001b[0m \u001b[43m    \u001b[49m\u001b[43mstorage_options\u001b[49m\u001b[38;5;241;43m=\u001b[39;49m\u001b[38;5;28;43mself\u001b[39;49m\u001b[38;5;241;43m.\u001b[39;49m\u001b[43moptions\u001b[49m\u001b[38;5;241;43m.\u001b[39;49m\u001b[43mget\u001b[49m\u001b[43m(\u001b[49m\u001b[38;5;124;43m\"\u001b[39;49m\u001b[38;5;124;43mstorage_options\u001b[39;49m\u001b[38;5;124;43m\"\u001b[39;49m\u001b[43m,\u001b[49m\u001b[43m \u001b[49m\u001b[38;5;28;43;01mNone\u001b[39;49;00m\u001b[43m)\u001b[49m\u001b[43m,\u001b[49m\n\u001b[0;32m   1889\u001b[0m \u001b[43m\u001b[49m\u001b[43m)\u001b[49m\n\u001b[0;32m   1890\u001b[0m \u001b[38;5;28;01massert\u001b[39;00m \u001b[38;5;28mself\u001b[39m\u001b[38;5;241m.\u001b[39mhandles \u001b[38;5;129;01mis\u001b[39;00m \u001b[38;5;129;01mnot\u001b[39;00m \u001b[38;5;28;01mNone\u001b[39;00m\n\u001b[0;32m   1891\u001b[0m f \u001b[38;5;241m=\u001b[39m \u001b[38;5;28mself\u001b[39m\u001b[38;5;241m.\u001b[39mhandles\u001b[38;5;241m.\u001b[39mhandle\n",
      "File \u001b[1;32mc:\\Users\\Youngjoo\\anaconda3\\envs\\ts\\Lib\\site-packages\\pandas\\io\\common.py:728\u001b[0m, in \u001b[0;36mget_handle\u001b[1;34m(path_or_buf, mode, encoding, compression, memory_map, is_text, errors, storage_options)\u001b[0m\n\u001b[0;32m    725\u001b[0m     codecs\u001b[38;5;241m.\u001b[39mlookup_error(errors)\n\u001b[0;32m    727\u001b[0m \u001b[38;5;66;03m# open URLs\u001b[39;00m\n\u001b[1;32m--> 728\u001b[0m ioargs \u001b[38;5;241m=\u001b[39m \u001b[43m_get_filepath_or_buffer\u001b[49m\u001b[43m(\u001b[49m\n\u001b[0;32m    729\u001b[0m \u001b[43m    \u001b[49m\u001b[43mpath_or_buf\u001b[49m\u001b[43m,\u001b[49m\n\u001b[0;32m    730\u001b[0m \u001b[43m    \u001b[49m\u001b[43mencoding\u001b[49m\u001b[38;5;241;43m=\u001b[39;49m\u001b[43mencoding\u001b[49m\u001b[43m,\u001b[49m\n\u001b[0;32m    731\u001b[0m \u001b[43m    \u001b[49m\u001b[43mcompression\u001b[49m\u001b[38;5;241;43m=\u001b[39;49m\u001b[43mcompression\u001b[49m\u001b[43m,\u001b[49m\n\u001b[0;32m    732\u001b[0m \u001b[43m    \u001b[49m\u001b[43mmode\u001b[49m\u001b[38;5;241;43m=\u001b[39;49m\u001b[43mmode\u001b[49m\u001b[43m,\u001b[49m\n\u001b[0;32m    733\u001b[0m \u001b[43m    \u001b[49m\u001b[43mstorage_options\u001b[49m\u001b[38;5;241;43m=\u001b[39;49m\u001b[43mstorage_options\u001b[49m\u001b[43m,\u001b[49m\n\u001b[0;32m    734\u001b[0m \u001b[43m\u001b[49m\u001b[43m)\u001b[49m\n\u001b[0;32m    736\u001b[0m handle \u001b[38;5;241m=\u001b[39m ioargs\u001b[38;5;241m.\u001b[39mfilepath_or_buffer\n\u001b[0;32m    737\u001b[0m handles: \u001b[38;5;28mlist\u001b[39m[BaseBuffer]\n",
      "File \u001b[1;32mc:\\Users\\Youngjoo\\anaconda3\\envs\\ts\\Lib\\site-packages\\pandas\\io\\common.py:384\u001b[0m, in \u001b[0;36m_get_filepath_or_buffer\u001b[1;34m(filepath_or_buffer, encoding, compression, mode, storage_options)\u001b[0m\n\u001b[0;32m    382\u001b[0m \u001b[38;5;66;03m# assuming storage_options is to be interpreted as headers\u001b[39;00m\n\u001b[0;32m    383\u001b[0m req_info \u001b[38;5;241m=\u001b[39m urllib\u001b[38;5;241m.\u001b[39mrequest\u001b[38;5;241m.\u001b[39mRequest(filepath_or_buffer, headers\u001b[38;5;241m=\u001b[39mstorage_options)\n\u001b[1;32m--> 384\u001b[0m \u001b[38;5;28;01mwith\u001b[39;00m \u001b[43murlopen\u001b[49m\u001b[43m(\u001b[49m\u001b[43mreq_info\u001b[49m\u001b[43m)\u001b[49m \u001b[38;5;28;01mas\u001b[39;00m req:\n\u001b[0;32m    385\u001b[0m     content_encoding \u001b[38;5;241m=\u001b[39m req\u001b[38;5;241m.\u001b[39mheaders\u001b[38;5;241m.\u001b[39mget(\u001b[38;5;124m\"\u001b[39m\u001b[38;5;124mContent-Encoding\u001b[39m\u001b[38;5;124m\"\u001b[39m, \u001b[38;5;28;01mNone\u001b[39;00m)\n\u001b[0;32m    386\u001b[0m     \u001b[38;5;28;01mif\u001b[39;00m content_encoding \u001b[38;5;241m==\u001b[39m \u001b[38;5;124m\"\u001b[39m\u001b[38;5;124mgzip\u001b[39m\u001b[38;5;124m\"\u001b[39m:\n\u001b[0;32m    387\u001b[0m         \u001b[38;5;66;03m# Override compression based on Content-Encoding header\u001b[39;00m\n",
      "File \u001b[1;32mc:\\Users\\Youngjoo\\anaconda3\\envs\\ts\\Lib\\site-packages\\pandas\\io\\common.py:289\u001b[0m, in \u001b[0;36murlopen\u001b[1;34m(*args, **kwargs)\u001b[0m\n\u001b[0;32m    283\u001b[0m \u001b[38;5;250m\u001b[39m\u001b[38;5;124;03m\"\"\"\u001b[39;00m\n\u001b[0;32m    284\u001b[0m \u001b[38;5;124;03mLazy-import wrapper for stdlib urlopen, as that imports a big chunk of\u001b[39;00m\n\u001b[0;32m    285\u001b[0m \u001b[38;5;124;03mthe stdlib.\u001b[39;00m\n\u001b[0;32m    286\u001b[0m \u001b[38;5;124;03m\"\"\"\u001b[39;00m\n\u001b[0;32m    287\u001b[0m \u001b[38;5;28;01mimport\u001b[39;00m \u001b[38;5;21;01murllib\u001b[39;00m\u001b[38;5;21;01m.\u001b[39;00m\u001b[38;5;21;01mrequest\u001b[39;00m\n\u001b[1;32m--> 289\u001b[0m \u001b[38;5;28;01mreturn\u001b[39;00m \u001b[43murllib\u001b[49m\u001b[38;5;241;43m.\u001b[39;49m\u001b[43mrequest\u001b[49m\u001b[38;5;241;43m.\u001b[39;49m\u001b[43murlopen\u001b[49m\u001b[43m(\u001b[49m\u001b[38;5;241;43m*\u001b[39;49m\u001b[43margs\u001b[49m\u001b[43m,\u001b[49m\u001b[43m \u001b[49m\u001b[38;5;241;43m*\u001b[39;49m\u001b[38;5;241;43m*\u001b[39;49m\u001b[43mkwargs\u001b[49m\u001b[43m)\u001b[49m\n",
      "File \u001b[1;32mc:\\Users\\Youngjoo\\anaconda3\\envs\\ts\\Lib\\urllib\\request.py:216\u001b[0m, in \u001b[0;36murlopen\u001b[1;34m(url, data, timeout, cafile, capath, cadefault, context)\u001b[0m\n\u001b[0;32m    214\u001b[0m \u001b[38;5;28;01melse\u001b[39;00m:\n\u001b[0;32m    215\u001b[0m     opener \u001b[38;5;241m=\u001b[39m _opener\n\u001b[1;32m--> 216\u001b[0m \u001b[38;5;28;01mreturn\u001b[39;00m \u001b[43mopener\u001b[49m\u001b[38;5;241;43m.\u001b[39;49m\u001b[43mopen\u001b[49m\u001b[43m(\u001b[49m\u001b[43murl\u001b[49m\u001b[43m,\u001b[49m\u001b[43m \u001b[49m\u001b[43mdata\u001b[49m\u001b[43m,\u001b[49m\u001b[43m \u001b[49m\u001b[43mtimeout\u001b[49m\u001b[43m)\u001b[49m\n",
      "File \u001b[1;32mc:\\Users\\Youngjoo\\anaconda3\\envs\\ts\\Lib\\urllib\\request.py:525\u001b[0m, in \u001b[0;36mOpenerDirector.open\u001b[1;34m(self, fullurl, data, timeout)\u001b[0m\n\u001b[0;32m    523\u001b[0m \u001b[38;5;28;01mfor\u001b[39;00m processor \u001b[38;5;129;01min\u001b[39;00m \u001b[38;5;28mself\u001b[39m\u001b[38;5;241m.\u001b[39mprocess_response\u001b[38;5;241m.\u001b[39mget(protocol, []):\n\u001b[0;32m    524\u001b[0m     meth \u001b[38;5;241m=\u001b[39m \u001b[38;5;28mgetattr\u001b[39m(processor, meth_name)\n\u001b[1;32m--> 525\u001b[0m     response \u001b[38;5;241m=\u001b[39m \u001b[43mmeth\u001b[49m\u001b[43m(\u001b[49m\u001b[43mreq\u001b[49m\u001b[43m,\u001b[49m\u001b[43m \u001b[49m\u001b[43mresponse\u001b[49m\u001b[43m)\u001b[49m\n\u001b[0;32m    527\u001b[0m \u001b[38;5;28;01mreturn\u001b[39;00m response\n",
      "File \u001b[1;32mc:\\Users\\Youngjoo\\anaconda3\\envs\\ts\\Lib\\urllib\\request.py:634\u001b[0m, in \u001b[0;36mHTTPErrorProcessor.http_response\u001b[1;34m(self, request, response)\u001b[0m\n\u001b[0;32m    631\u001b[0m \u001b[38;5;66;03m# According to RFC 2616, \"2xx\" code indicates that the client's\u001b[39;00m\n\u001b[0;32m    632\u001b[0m \u001b[38;5;66;03m# request was successfully received, understood, and accepted.\u001b[39;00m\n\u001b[0;32m    633\u001b[0m \u001b[38;5;28;01mif\u001b[39;00m \u001b[38;5;129;01mnot\u001b[39;00m (\u001b[38;5;241m200\u001b[39m \u001b[38;5;241m<\u001b[39m\u001b[38;5;241m=\u001b[39m code \u001b[38;5;241m<\u001b[39m \u001b[38;5;241m300\u001b[39m):\n\u001b[1;32m--> 634\u001b[0m     response \u001b[38;5;241m=\u001b[39m \u001b[38;5;28;43mself\u001b[39;49m\u001b[38;5;241;43m.\u001b[39;49m\u001b[43mparent\u001b[49m\u001b[38;5;241;43m.\u001b[39;49m\u001b[43merror\u001b[49m\u001b[43m(\u001b[49m\n\u001b[0;32m    635\u001b[0m \u001b[43m        \u001b[49m\u001b[38;5;124;43m'\u001b[39;49m\u001b[38;5;124;43mhttp\u001b[39;49m\u001b[38;5;124;43m'\u001b[39;49m\u001b[43m,\u001b[49m\u001b[43m \u001b[49m\u001b[43mrequest\u001b[49m\u001b[43m,\u001b[49m\u001b[43m \u001b[49m\u001b[43mresponse\u001b[49m\u001b[43m,\u001b[49m\u001b[43m \u001b[49m\u001b[43mcode\u001b[49m\u001b[43m,\u001b[49m\u001b[43m \u001b[49m\u001b[43mmsg\u001b[49m\u001b[43m,\u001b[49m\u001b[43m \u001b[49m\u001b[43mhdrs\u001b[49m\u001b[43m)\u001b[49m\n\u001b[0;32m    637\u001b[0m \u001b[38;5;28;01mreturn\u001b[39;00m response\n",
      "File \u001b[1;32mc:\\Users\\Youngjoo\\anaconda3\\envs\\ts\\Lib\\urllib\\request.py:563\u001b[0m, in \u001b[0;36mOpenerDirector.error\u001b[1;34m(self, proto, *args)\u001b[0m\n\u001b[0;32m    561\u001b[0m \u001b[38;5;28;01mif\u001b[39;00m http_err:\n\u001b[0;32m    562\u001b[0m     args \u001b[38;5;241m=\u001b[39m (\u001b[38;5;28mdict\u001b[39m, \u001b[38;5;124m'\u001b[39m\u001b[38;5;124mdefault\u001b[39m\u001b[38;5;124m'\u001b[39m, \u001b[38;5;124m'\u001b[39m\u001b[38;5;124mhttp_error_default\u001b[39m\u001b[38;5;124m'\u001b[39m) \u001b[38;5;241m+\u001b[39m orig_args\n\u001b[1;32m--> 563\u001b[0m     \u001b[38;5;28;01mreturn\u001b[39;00m \u001b[38;5;28;43mself\u001b[39;49m\u001b[38;5;241;43m.\u001b[39;49m\u001b[43m_call_chain\u001b[49m\u001b[43m(\u001b[49m\u001b[38;5;241;43m*\u001b[39;49m\u001b[43margs\u001b[49m\u001b[43m)\u001b[49m\n",
      "File \u001b[1;32mc:\\Users\\Youngjoo\\anaconda3\\envs\\ts\\Lib\\urllib\\request.py:496\u001b[0m, in \u001b[0;36mOpenerDirector._call_chain\u001b[1;34m(self, chain, kind, meth_name, *args)\u001b[0m\n\u001b[0;32m    494\u001b[0m \u001b[38;5;28;01mfor\u001b[39;00m handler \u001b[38;5;129;01min\u001b[39;00m handlers:\n\u001b[0;32m    495\u001b[0m     func \u001b[38;5;241m=\u001b[39m \u001b[38;5;28mgetattr\u001b[39m(handler, meth_name)\n\u001b[1;32m--> 496\u001b[0m     result \u001b[38;5;241m=\u001b[39m \u001b[43mfunc\u001b[49m\u001b[43m(\u001b[49m\u001b[38;5;241;43m*\u001b[39;49m\u001b[43margs\u001b[49m\u001b[43m)\u001b[49m\n\u001b[0;32m    497\u001b[0m     \u001b[38;5;28;01mif\u001b[39;00m result \u001b[38;5;129;01mis\u001b[39;00m \u001b[38;5;129;01mnot\u001b[39;00m \u001b[38;5;28;01mNone\u001b[39;00m:\n\u001b[0;32m    498\u001b[0m         \u001b[38;5;28;01mreturn\u001b[39;00m result\n",
      "File \u001b[1;32mc:\\Users\\Youngjoo\\anaconda3\\envs\\ts\\Lib\\urllib\\request.py:643\u001b[0m, in \u001b[0;36mHTTPDefaultErrorHandler.http_error_default\u001b[1;34m(self, req, fp, code, msg, hdrs)\u001b[0m\n\u001b[0;32m    642\u001b[0m \u001b[38;5;28;01mdef\u001b[39;00m \u001b[38;5;21mhttp_error_default\u001b[39m(\u001b[38;5;28mself\u001b[39m, req, fp, code, msg, hdrs):\n\u001b[1;32m--> 643\u001b[0m     \u001b[38;5;28;01mraise\u001b[39;00m HTTPError(req\u001b[38;5;241m.\u001b[39mfull_url, code, msg, hdrs, fp)\n",
      "\u001b[1;31mHTTPError\u001b[0m: HTTP Error 404: Not Found"
     ]
    }
   ],
   "source": [
    "start_date = \"2018-01-01\"\n",
    "end_date = \"2023-12-31\"\n",
    "\n",
    "stock = pd.read_csv(\"https://raw.githubusercontent.com/safeai-snu/Econometrics/refs/heads/main/Part.3/data/AAPL_stock.csv\")\n",
    "stock = stock.loc[start_date:end_date]\n",
    "stock"
   ]
  },
  {
   "cell_type": "markdown",
   "id": "0d4fb39d",
   "metadata": {},
   "source": [
    "#### 주식 데이터 다운로드"
   ]
  },
  {
   "cell_type": "code",
   "execution_count": null,
   "id": "16fca052",
   "metadata": {},
   "outputs": [],
   "source": [
    "tick = yf.Ticker(ticker)\n",
    "stock = tick.history(start=start_date, end=end_date)"
   ]
  },
  {
   "cell_type": "markdown",
   "id": "5994ebca",
   "metadata": {},
   "source": [
    "#### 종가 데이터 추출"
   ]
  },
  {
   "cell_type": "code",
   "execution_count": null,
   "id": "836f6df7",
   "metadata": {},
   "outputs": [],
   "source": [
    "stock = stock[['Close']]\n",
    "stock['Naive_Forecast'] = stock['Close'].shift(1)\n",
    "stock['Residuals'] = stock['Close'].diff(1)"
   ]
  },
  {
   "cell_type": "markdown",
   "id": "849562b3",
   "metadata": {},
   "source": [
    "#### 부트스트랩"
   ]
  },
  {
   "cell_type": "code",
   "execution_count": null,
   "id": "c61583a1",
   "metadata": {},
   "outputs": [],
   "source": [
    "np.random.seed(0)  \n",
    "n_days = 100\n",
    "n_simulations = 100  \n",
    "last_value = stock['Close'].iloc[-1]\n",
    "\n",
    "simulations = pd.DataFrame(index=range(n_days), columns=range(n_simulations))\n",
    "\n",
    "for sim in range(n_simulations):\n",
    "    simulated_values = [last_value]\n",
    "    for day in range(1, n_days):\n",
    "        simulated_values.append(simulated_values[day-1] + np.random.choice(stock['Residuals'].dropna()))\n",
    "    simulations[sim] = simulated_values\n",
    "\n",
    "percentiles = [80, 95]\n",
    "lower_bounds = simulations.quantile(q=(1-percentiles[0]/100)/2, axis=1)\n",
    "upper_bounds = simulations.quantile(q=1-(1-percentiles[0]/100)/2, axis=1)\n",
    "lower_bounds_95 = simulations.quantile(q=(1-percentiles[1]/100)/2, axis=1)\n",
    "upper_bounds_95 = simulations.quantile(q=1-(1-percentiles[1]/100)/2, axis=1)"
   ]
  },
  {
   "cell_type": "markdown",
   "id": "87442a71",
   "metadata": {},
   "source": [
    "#### 시각화"
   ]
  },
  {
   "cell_type": "code",
   "execution_count": null,
   "id": "207485c9",
   "metadata": {},
   "outputs": [],
   "source": [
    "plt.figure(figsize=(14, 7))\n",
    "plt.plot(stock.index, stock['Close'], label='Actual')\n",
    "for sim in simulations.columns:\n",
    "    plt.plot(stock.index[-1] + pd.to_timedelta(range(n_days), unit='D'), simulations[sim], alpha=0.1, color='grey')\n",
    "plt.title('Apple Stock Price Simulation using Naive Method with Bootstrapped Residuals')\n",
    "plt.xlabel('Date')\n",
    "plt.ylabel('Price')\n",
    "plt.legend()\n",
    "plt.show()\n",
    "\n",
    "plt.figure(figsize=(14, 7))\n",
    "plt.plot(stock.index, stock['Close'], label='Actual')\n",
    "plt.fill_between(stock.index[-1] + pd.to_timedelta(range(n_days), unit='D'), lower_bounds, upper_bounds, color='blue', alpha=0.1, label=f'{percentiles[0]}% Interval')\n",
    "plt.fill_between(stock.index[-1] + pd.to_timedelta(range(n_days), unit='D'), lower_bounds_95, upper_bounds_95, color='blue', alpha=0.2, label=f'{percentiles[1]}% Interval')\n",
    "plt.title('Apple Stock Price Forecast Intervals')\n",
    "plt.xlabel('Date')\n",
    "plt.ylabel('Price')\n",
    "plt.legend()\n",
    "plt.show()"
   ]
  },
  {
   "cell_type": "markdown",
   "id": "0d06cbf2",
   "metadata": {},
   "source": [
    "## 예제 6-4. 푸리에 변환 예시"
   ]
  },
  {
   "cell_type": "markdown",
   "id": "3b99c3e2",
   "metadata": {},
   "source": [
    "### 소매 판매량 데이터 푸리에 변환"
   ]
  },
  {
   "cell_type": "markdown",
   "id": "2001fe4e",
   "metadata": {},
   "source": [
    "#### 필요한 패키지 불러오기"
   ]
  },
  {
   "cell_type": "code",
   "execution_count": null,
   "id": "969f8918",
   "metadata": {},
   "outputs": [],
   "source": [
    "import pandas as pd\n",
    "import numpy as np\n",
    "import matplotlib.pyplot as plt\n",
    "from statsmodels.api import OLS\n",
    "from statsmodels.tsa.stattools import acf"
   ]
  },
  {
   "cell_type": "markdown",
   "id": "61a5baa1",
   "metadata": {},
   "source": [
    "#### 데이터 전처리"
   ]
  },
  {
   "cell_type": "code",
   "execution_count": null,
   "id": "78bd8ff0",
   "metadata": {},
   "outputs": [],
   "source": [
    "retail = pd.read_csv(\"https://raw.githubusercontent.com/safeai-snu/Econometrics/refs/heads/main/Part.3/data/example_retail_sales.csv\")  \n",
    "retail['ds'] = pd.to_datetime(retail['ds'])\n",
    "retail['y'] = retail['y'].str.replace(\",\", \"\").astype(float)\n",
    "retail.set_index('ds', inplace=True)\n",
    "retail"
   ]
  },
  {
   "cell_type": "markdown",
   "id": "7853c85d",
   "metadata": {},
   "source": [
    "#### 주기 P 자동 탐색"
   ]
  },
  {
   "cell_type": "code",
   "execution_count": null,
   "id": "22ab51a6",
   "metadata": {},
   "outputs": [],
   "source": [
    "P = np.argmax(acf(np.log(retail[\"y\"]).dropna(), nlags=24))\n",
    "if P == 0:\n",
    "    P = 12 \n",
    "print(f\"Detected Periodicity (P): {P} months\")"
   ]
  },
  {
   "cell_type": "markdown",
   "id": "7e94deaa",
   "metadata": {},
   "source": [
    "#### 푸리에 변환 특성 생성 함수"
   ]
  },
  {
   "cell_type": "code",
   "execution_count": null,
   "id": "87910581",
   "metadata": {},
   "outputs": [],
   "source": [
    "def create_fourier_features(t, P, K):\n",
    "    X = np.ones((len(t), 2*K+2))\n",
    "    X[:, -1] = t\n",
    "    for k in range(1, K+1):\n",
    "        X[:, 2*k-1] = np.sin(2 * np.pi * k * t / P)\n",
    "        X[:, 2*k] = np.cos(2 * np.pi * k * t / P)\n",
    "    return X"
   ]
  },
  {
   "cell_type": "markdown",
   "id": "d326bd3d",
   "metadata": {},
   "source": [
    "#### 푸리에 변환"
   ]
  },
  {
   "cell_type": "code",
   "execution_count": null,
   "id": "551c427d",
   "metadata": {},
   "outputs": [],
   "source": [
    "def fit_fourier_series(df, K, P):\n",
    "    \n",
    "    df = df.copy()\n",
    "    dt = df[:-48].copy()\n",
    "\n",
    "    t = np.arange(len(dt))\n",
    "    X = create_fourier_features(t, P, K)\n",
    "    y = np.log(dt[\"y\"])  \n",
    "    model = OLS(y, X).fit()\n",
    "    \n",
    "    dt[\"fitted\"] = np.exp(model.predict(X)) * np.exp(y.mean() - model.predict(X).mean())\n",
    "\n",
    "    future_t = np.arange(len(dt), len(dt) + 48)\n",
    "    X_future = create_fourier_features(future_t, P, K)\n",
    "    forecast = np.exp(model.predict(X_future)) * np.exp(y.mean() - model.predict(X_future).mean())\n",
    "    adjustment_factor = dt[\"fitted\"].iloc[-1] / forecast[0]\n",
    "    forecast_adjusted = forecast * adjustment_factor\n",
    "\n",
    "    future_dates = pd.date_range(dt.index[-1] + pd.DateOffset(months=1), periods=48, freq='M')\n",
    "    \n",
    "    return dt, forecast_adjusted, future_dates"
   ]
  },
  {
   "cell_type": "markdown",
   "id": "f53d5fdd",
   "metadata": {},
   "source": [
    "#### 푸리에 예측 및 시각화"
   ]
  },
  {
   "cell_type": "code",
   "execution_count": null,
   "id": "214d71e7",
   "metadata": {
    "scrolled": false
   },
   "outputs": [],
   "source": [
    "fig, axes = plt.subplots(3, 2, figsize=(15, 10))\n",
    "axes = axes.flatten()\n",
    "\n",
    "for i, K in enumerate(range(1, 7)):  \n",
    "    modified_df, forecast, future_dates = fit_fourier_series(retail, K, P)\n",
    "\n",
    "    ax = axes[i]\n",
    "    ax.plot(retail.index, retail['y'], label='Actual', color='black')\n",
    "    ax.plot(modified_df.index, modified_df['fitted'], label=f'Fourier(K={K})', color='red', linestyle=\"dashed\")\n",
    "    ax.plot(future_dates, forecast, label='Forecast', color='blue', linestyle=\"dotted\")\n",
    "\n",
    "    ax.set_title(f'Fourier Transform Prediction (K={K})')\n",
    "    ax.legend()\n",
    "    ax.set_xlabel(\"Date\")\n",
    "    ax.set_ylabel(\"Turnover\")\n",
    "\n",
    "plt.tight_layout()\n",
    "plt.show()"
   ]
  },
  {
   "cell_type": "markdown",
   "id": "178abefc",
   "metadata": {},
   "source": [
    "## 예제 6-5. 추세 모델링 예시"
   ]
  },
  {
   "cell_type": "markdown",
   "id": "ac30e4a6",
   "metadata": {},
   "source": [
    "### 소매 판매 데이터 결정론적 추세 모델링"
   ]
  },
  {
   "cell_type": "markdown",
   "id": "5f6ba500",
   "metadata": {},
   "source": [
    "#### 필요한 패키지 불러오기"
   ]
  },
  {
   "cell_type": "code",
   "execution_count": null,
   "id": "ecea230e",
   "metadata": {},
   "outputs": [],
   "source": [
    "import pandas as pd\n",
    "import numpy as np\n",
    "import matplotlib.pyplot as plt\n",
    "from statsmodels.regression.linear_model import OLS\n",
    "from statsmodels.tools.tools import add_constant"
   ]
  },
  {
   "cell_type": "markdown",
   "id": "49fc3a5e",
   "metadata": {},
   "source": [
    "#### 데이터 전처리"
   ]
  },
  {
   "cell_type": "code",
   "execution_count": null,
   "id": "f186b4ad",
   "metadata": {},
   "outputs": [],
   "source": [
    "retail = pd.read_csv(\"https://raw.githubusercontent.com/safeai-snu/Econometrics/refs/heads/main/Part.3/data/example_retail_sales.csv\")  \n",
    "retail['ds'] = pd.to_datetime(retail['ds'])\n",
    "retail['y'] = retail['y'].str.replace(\",\", \"\").astype(float)\n",
    "start_date = retail['ds'].min()\n",
    "retail['Time'] = (retail['ds'] - start_date) / np.timedelta64(1, 'm')"
   ]
  },
  {
   "cell_type": "markdown",
   "id": "0bf1424e",
   "metadata": {},
   "source": [
    "#### 모델 피팅"
   ]
  },
  {
   "cell_type": "code",
   "execution_count": null,
   "id": "4b7a93f9",
   "metadata": {},
   "outputs": [],
   "source": [
    "y = np.log(retail['y'])\n",
    "X = add_constant(retail['Time'])\n",
    "model = OLS(y, X).fit()"
   ]
  },
  {
   "cell_type": "markdown",
   "id": "5fa59dc9",
   "metadata": {},
   "source": [
    "#### 추세 예측"
   ]
  },
  {
   "cell_type": "code",
   "execution_count": null,
   "id": "c8bcf83a",
   "metadata": {},
   "outputs": [],
   "source": [
    "retail['Fitted'] = model.predict(X)\n",
    "retail['Exp_Fitted'] = np.exp(retail['Fitted'])"
   ]
  },
  {
   "cell_type": "markdown",
   "id": "211f7154",
   "metadata": {},
   "source": [
    "#### 시각화"
   ]
  },
  {
   "cell_type": "code",
   "execution_count": null,
   "id": "1f0d766e",
   "metadata": {},
   "outputs": [],
   "source": [
    "plt.figure(figsize=(10, 5))\n",
    "plt.plot(retail['ds'], retail['y'], label='Actual')\n",
    "plt.plot(retail['ds'], retail['Exp_Fitted'], label='Fitted', linestyle='--')\n",
    "plt.xlabel('Date')\n",
    "plt.ylabel('Sales')\n",
    "plt.title('Retail Sales – Exponential Trend Regression')\n",
    "plt.legend()\n",
    "plt.show()\n",
    "\n",
    "plt.figure(figsize=(10, 5))\n",
    "residuals = y - retail['Fitted']\n",
    "plt.plot(retail['ds'], residuals, label='Residuals')\n",
    "plt.axhline(y=0, color='black', linestyle='--')\n",
    "plt.xlabel('Date')\n",
    "plt.ylabel('Residual')\n",
    "plt.title('Retail Sales – Exponential Trend Residual Plot')\n",
    "plt.legend()\n",
    "plt.show()"
   ]
  },
  {
   "cell_type": "markdown",
   "id": "6ba2b206",
   "metadata": {},
   "source": [
    "## 예제 6-5. 계절성 모델링 예시"
   ]
  },
  {
   "cell_type": "markdown",
   "id": "f249cd43",
   "metadata": {},
   "source": [
    "### 호주 맥주 판매량 데이터 결정론적 계절성 모델링"
   ]
  },
  {
   "cell_type": "markdown",
   "id": "a1aa8ff0",
   "metadata": {},
   "source": [
    "#### 필요한 패키지 불러오기"
   ]
  },
  {
   "cell_type": "code",
   "execution_count": null,
   "id": "39851131",
   "metadata": {},
   "outputs": [],
   "source": [
    "import pandas as pd\n",
    "import numpy as np\n",
    "import matplotlib.pyplot as plt\n",
    "import seaborn as sns\n",
    "from statsmodels.tsa.seasonal import seasonal_decompose\n",
    "from statsmodels.tsa.statespace.sarimax import SARIMAX\n",
    "from statsmodels.graphics.tsaplots import plot_acf\n",
    "import matplotlib.dates as mdates"
   ]
  },
  {
   "cell_type": "markdown",
   "id": "cf37e7de",
   "metadata": {},
   "source": [
    "#### 데이터 불러오기"
   ]
  },
  {
   "cell_type": "code",
   "execution_count": null,
   "id": "6f7d9bff",
   "metadata": {},
   "outputs": [],
   "source": [
    "aus_beer = pd.read_csv('https://raw.githubusercontent.com/safeai-snu/Econometrics/refs/heads/main/Part.3/data/aus_production.csv', parse_dates=['Quarter'], index_col='Quarter')"
   ]
  },
  {
   "cell_type": "markdown",
   "id": "13160e3c",
   "metadata": {},
   "source": [
    "#### 시계열 분해"
   ]
  },
  {
   "cell_type": "code",
   "execution_count": null,
   "id": "eb5a8a08",
   "metadata": {},
   "outputs": [],
   "source": [
    "decomposition = seasonal_decompose(aus_beer['Beer'], model='additive', period=4)"
   ]
  },
  {
   "cell_type": "markdown",
   "id": "d5eb5166",
   "metadata": {},
   "source": [
    "#### 분해 시각화"
   ]
  },
  {
   "cell_type": "code",
   "execution_count": null,
   "id": "40cc621e",
   "metadata": {},
   "outputs": [],
   "source": [
    "fig, ax = plt.subplots(4, 1, figsize=(10, 8))\n",
    "\n",
    "ax[0].plot(decomposition.observed)\n",
    "ax[0].set_title('Observed', fontsize=12)\n",
    "ax[0].set_ylabel('Value')\n",
    "\n",
    "ax[1].plot(decomposition.trend)\n",
    "ax[1].set_title('Trend', fontsize=12)\n",
    "ax[1].set_ylabel('Value')\n",
    "\n",
    "ax[2].plot(decomposition.seasonal)\n",
    "ax[2].set_title('Seasonal', fontsize=12)\n",
    "ax[2].set_ylabel('Value')\n",
    "\n",
    "ax[3].scatter(aus_beer.index, decomposition.resid, alpha=0.5)\n",
    "ax[3].set_title('Residual', fontsize=12)\n",
    "ax[3].set_ylabel('Value')\n",
    "\n",
    "ax[0].xaxis.set_major_locator(mdates.YearLocator())\n",
    "ax[1].xaxis.set_major_locator(mdates.YearLocator())\n",
    "ax[2].xaxis.set_major_locator(mdates.YearLocator())\n",
    "ax[3].xaxis.set_major_locator(mdates.YearLocator())\n",
    "\n",
    "ax[0].xaxis.set_major_formatter(mdates.DateFormatter('%Y'))\n",
    "ax[1].xaxis.set_major_formatter(mdates.DateFormatter('%Y'))\n",
    "ax[2].xaxis.set_major_formatter(mdates.DateFormatter('%Y'))\n",
    "ax[3].xaxis.set_major_formatter(mdates.DateFormatter('%Y'))\n",
    "\n",
    "for axis in ax:\n",
    "    plt.setp(axis.get_xticklabels(), rotation=45, ha='right')\n",
    "\n",
    "plt.tight_layout()\n",
    "plt.show()"
   ]
  },
  {
   "cell_type": "markdown",
   "id": "8c4d79ca",
   "metadata": {},
   "source": [
    "#### 계절성 더미 변수 추가"
   ]
  },
  {
   "cell_type": "code",
   "execution_count": null,
   "id": "f075aa7f",
   "metadata": {},
   "outputs": [],
   "source": [
    "aus_beer_dummies = pd.get_dummies(aus_beer.index).T"
   ]
  },
  {
   "cell_type": "markdown",
   "id": "ef49eaa0",
   "metadata": {},
   "source": [
    "#### 모델 피팅 (더미 변수 추가)"
   ]
  },
  {
   "cell_type": "code",
   "execution_count": null,
   "id": "c8295b04",
   "metadata": {},
   "outputs": [],
   "source": [
    "sarima_model = SARIMAX(aus_beer['Beer'], order=(1, 1, 1), seasonal_order=(1, 1, 1, 4),exog=aus_beer_dummies)\n",
    "sarima_results = sarima_model.fit()\n",
    "residuals = sarima_results.resid"
   ]
  },
  {
   "cell_type": "markdown",
   "id": "d596e734",
   "metadata": {},
   "source": [
    "#### 잔차 시각화"
   ]
  },
  {
   "cell_type": "code",
   "execution_count": null,
   "id": "f564f2b1",
   "metadata": {
    "scrolled": false
   },
   "outputs": [],
   "source": [
    "plt.figure(figsize=(20, 8))\n",
    "plt.plot(residuals)\n",
    "plt.title('Residuals from SARIMA Model')\n",
    "plt.show()\n",
    "\n",
    "plt.figure(figsize=(20, 8))\n",
    "plot_acf(residuals, lags=40)\n",
    "plt.show()\n",
    "\n",
    "plt.figure(figsize=(20, 8))\n",
    "sns.histplot(residuals, bins=20, kde=True)\n",
    "plt.title('Histogram of Residuals')\n",
    "plt.show()"
   ]
  },
  {
   "cell_type": "markdown",
   "id": "c5e4bd76",
   "metadata": {},
   "source": [
    "#### 모델 시각화"
   ]
  },
  {
   "cell_type": "code",
   "execution_count": null,
   "id": "5ffa4654",
   "metadata": {},
   "outputs": [],
   "source": [
    "fitted_values = sarima_results.fittedvalues\n",
    "plt.figure(figsize=(20, 8))\n",
    "sns.scatterplot(x=aus_beer['Beer'], y=fitted_values)\n",
    "plt.xlabel('Actual Values')\n",
    "plt.ylabel('Fitted Values')\n",
    "plt.title('Actual vs Fitted Values')\n",
    "plt.show()"
   ]
  },
  {
   "cell_type": "markdown",
   "id": "464f5406",
   "metadata": {},
   "source": [
    "#### 예측 시각화"
   ]
  },
  {
   "cell_type": "code",
   "execution_count": null,
   "id": "a6916a9f",
   "metadata": {},
   "outputs": [],
   "source": [
    "forecast = sarima_results.get_forecast(steps=8, exog=aus_beer_dummies.iloc[-8:])\n",
    "forecast_ci = forecast.conf_int()\n",
    "\n",
    "plt.figure(figsize=(20, 8))\n",
    "plt.plot(aus_beer.index, aus_beer['Beer'], label='Actual', color='red')\n",
    "plt.plot(forecast_ci.index, forecast.predicted_mean, label='Forecast')\n",
    "plt.fill_between(forecast_ci.index, forecast_ci.iloc[:, 0], forecast_ci.iloc[:, 1], color='lightgrey', alpha=0.5)\n",
    "plt.title('Beer Production Forecast')\n",
    "plt.legend()\n",
    "plt.show()"
   ]
  }
 ],
 "metadata": {
  "kernelspec": {
   "display_name": "ts",
   "language": "python",
   "name": "python3"
  },
  "language_info": {
   "codemirror_mode": {
    "name": "ipython",
    "version": 3
   },
   "file_extension": ".py",
   "mimetype": "text/x-python",
   "name": "python",
   "nbconvert_exporter": "python",
   "pygments_lexer": "ipython3",
   "version": "3.11.9"
  }
 },
 "nbformat": 4,
 "nbformat_minor": 5
}
