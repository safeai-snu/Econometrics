{
 "cells": [
  {
   "cell_type": "markdown",
   "id": "4d6c892d",
   "metadata": {},
   "source": [
    "<a href=\"https://colab.research.google.com/github/safeai-snu/Econometrics/blob/main/Part.3/6.Time_Series_Regression_Models.ipynb\" target=\"_parent\"><img src=\"https://colab.research.google.com/assets/colab-badge.svg\" alt=\"Open In Colab\"/></a>"
   ]
  },
  {
   "cell_type": "markdown",
   "id": "5fc57b23",
   "metadata": {},
   "source": [
    "## 예제 6-1. 간단한 예측 방법 예시"
   ]
  },
  {
   "cell_type": "markdown",
   "id": "2d51fc67",
   "metadata": {},
   "source": [
    "### 호주 생산량 데이터 예측"
   ]
  },
  {
   "cell_type": "markdown",
   "id": "4b5bc729",
   "metadata": {},
   "source": [
    "#### 필요한 패키지 불러오기"
   ]
  },
  {
   "cell_type": "code",
   "execution_count": null,
   "id": "b679c0f7",
   "metadata": {},
   "outputs": [],
   "source": [
    "import pandas as pd\n",
    "import matplotlib.pyplot as plt"
   ]
  },
  {
   "cell_type": "markdown",
   "id": "0f139fb3",
   "metadata": {},
   "source": [
    "#### 데이터 전처리"
   ]
  },
  {
   "cell_type": "code",
   "execution_count": null,
   "id": "591d6939",
   "metadata": {},
   "outputs": [],
   "source": [
    "def parse_quarter_string(q):\n",
    "    \"\"\"\n",
    "    Converts a quarter string 'YYYY Qq' to a datetime object.\n",
    "    \"\"\"\n",
    "    year, quarter = q.split(' Q')\n",
    "    first_month_of_quarter = 3 * int(quarter) - 2\n",
    "    return f\"{year}-{first_month_of_quarter}-01\"\n",
    "\n",
    "aus_production = pd.read_csv('https://raw.githubusercontent.com/safeai-snu/Econometrics/refs/heads/main/Part.3/data/aus_production.csv')\n",
    "aus_production['Quarter'] = aus_production['Quarter'].apply(parse_quarter_string)\n",
    "aus_production['Quarter'] = pd.to_datetime(aus_production['Quarter'])\n",
    "aus_production.set_index('Quarter', inplace=True)"
   ]
  },
  {
   "cell_type": "markdown",
   "id": "914cc821",
   "metadata": {},
   "source": [
    "#### Naive forecasting"
   ]
  },
  {
   "cell_type": "code",
   "execution_count": null,
   "id": "9b35ef3c",
   "metadata": {},
   "outputs": [],
   "source": [
    "aus_production['Naive'] = aus_production['Bricks'].shift(1)"
   ]
  },
  {
   "cell_type": "markdown",
   "id": "36d66f04",
   "metadata": {},
   "source": [
    "#### Naive seasonal forecasting"
   ]
  },
  {
   "cell_type": "code",
   "execution_count": null,
   "id": "b2e19864",
   "metadata": {},
   "outputs": [],
   "source": [
    "seasonality = 4\n",
    "aus_production['Naive_Seasonal'] = aus_production['Bricks'].shift(seasonality)"
   ]
  },
  {
   "cell_type": "markdown",
   "id": "bf2b3191",
   "metadata": {},
   "source": [
    "#### Mean method"
   ]
  },
  {
   "cell_type": "code",
   "execution_count": null,
   "id": "39d93bf9",
   "metadata": {},
   "outputs": [],
   "source": [
    "aus_production['Mean'] = aus_production['Bricks'].expanding().mean()"
   ]
  },
  {
   "cell_type": "markdown",
   "id": "b9f41608",
   "metadata": {},
   "source": [
    "#### 예측"
   ]
  },
  {
   "cell_type": "code",
   "execution_count": null,
   "id": "2e83b6ce",
   "metadata": {},
   "outputs": [],
   "source": [
    "forecast_start = '2000-01-01'\n",
    "naive_mask = (aus_production.index >= forecast_start)\n",
    "naive_seasonal_mask = (aus_production.index >= forecast_start)\n",
    "mean_mask = (aus_production.index >= forecast_start)"
   ]
  },
  {
   "cell_type": "markdown",
   "id": "fb9155d7",
   "metadata": {},
   "source": [
    "#### 시각화"
   ]
  },
  {
   "cell_type": "code",
   "execution_count": null,
   "id": "4196b33a",
   "metadata": {},
   "outputs": [],
   "source": [
    "plt.figure(figsize=(20,6))\n",
    "\n",
    "plt.subplot(131)\n",
    "plt.plot(aus_production['Bricks'], label='Actual', color='black')\n",
    "plt.plot(aus_production.index[naive_mask], aus_production['Naive'][naive_mask], label='Naive Forecast', color='blue')\n",
    "plt.title('Naive Method')\n",
    "plt.legend()\n",
    "\n",
    "plt.subplot(132)\n",
    "plt.plot(aus_production['Bricks'], label='Actual', color='black')\n",
    "plt.plot(aus_production.index[naive_seasonal_mask], aus_production['Naive_Seasonal'][naive_seasonal_mask], label='Naive Seasonal Forecast', color='blue')\n",
    "plt.title('Naive Seasonal Method')\n",
    "plt.legend()\n",
    "\n",
    "plt.subplot(133)\n",
    "plt.plot(aus_production['Bricks'], label='Actual', color='black')\n",
    "plt.plot(aus_production.index[mean_mask], aus_production['Mean'][mean_mask], label='Mean Forecast', color='blue')\n",
    "plt.title('Mean Method')\n",
    "plt.legend()\n",
    "\n",
    "plt.tight_layout()\n",
    "plt.show()"
   ]
  },
  {
   "cell_type": "markdown",
   "id": "8ec32baa",
   "metadata": {},
   "source": [
    "## 예제 6-2. 선형회귀 예시"
   ]
  },
  {
   "cell_type": "markdown",
   "id": "74b579ef",
   "metadata": {},
   "source": [
    "### 호주 생산량 데이터 선형 회귀"
   ]
  },
  {
   "cell_type": "markdown",
   "id": "cff7e221",
   "metadata": {},
   "source": [
    "#### 필요한 패키지 불러오기"
   ]
  },
  {
   "cell_type": "code",
   "execution_count": null,
   "id": "3be323e8",
   "metadata": {},
   "outputs": [],
   "source": [
    "import pandas as pd\n",
    "import numpy as np\n",
    "import statsmodels.api as sm\n",
    "import matplotlib.pyplot as plt"
   ]
  },
  {
   "cell_type": "markdown",
   "id": "f51cefbc",
   "metadata": {},
   "source": [
    "#### 데이터 전처리"
   ]
  },
  {
   "cell_type": "code",
   "execution_count": null,
   "id": "5b382f14",
   "metadata": {},
   "outputs": [],
   "source": [
    "aus_production = pd.read_csv('https://raw.githubusercontent.com/safeai-snu/Econometrics/refs/heads/main/Part.3/data/aus_production.csv')\n",
    "aus_production['Quarter'] = aus_production['Quarter'].apply(parse_quarter_string)\n",
    "aus_production['Quarter'] = pd.to_datetime(aus_production['Quarter'])\n",
    "aus_production.set_index('Quarter', inplace=True)\n",
    "aus_production['Time_Index'] = np.arange(len(aus_production))"
   ]
  },
  {
   "cell_type": "markdown",
   "id": "d125637e",
   "metadata": {},
   "source": [
    "#### 선형회귀 모델"
   ]
  },
  {
   "cell_type": "code",
   "execution_count": null,
   "id": "2616a134",
   "metadata": {},
   "outputs": [],
   "source": [
    "X = sm.add_constant(aus_production['Time_Index'])\n",
    "y = aus_production['Bricks']\n",
    "\n",
    "model = sm.OLS(y, X, missing='drop').fit()  \n",
    "\n",
    "aus_production['Linear_Forecast'] = model.predict(X)"
   ]
  },
  {
   "cell_type": "markdown",
   "id": "688e829c",
   "metadata": {},
   "source": [
    "#### 시각화"
   ]
  },
  {
   "cell_type": "code",
   "execution_count": null,
   "id": "d75368b3",
   "metadata": {
    "scrolled": false
   },
   "outputs": [],
   "source": [
    "plt.figure(figsize=(12, 6))\n",
    "plt.plot(aus_production['Bricks'], label='Actual', color='black')\n",
    "plt.plot(aus_production['Linear_Forecast'], label='Linear Forecast', color='red', linestyle='--')\n",
    "plt.title('Linear Regression Forecast')\n",
    "plt.xlabel('Quarter')\n",
    "plt.ylabel('Bricks')\n",
    "plt.legend()\n",
    "plt.show()"
   ]
  },
  {
   "cell_type": "markdown",
   "id": "ff81ed58",
   "metadata": {},
   "source": [
    "## 예제 6-3. 부트스트랩 예시"
   ]
  },
  {
   "cell_type": "markdown",
   "id": "cf47ed60",
   "metadata": {},
   "source": [
    "### 애플 주가 데이터 부트스트랩"
   ]
  },
  {
   "cell_type": "markdown",
   "id": "18f063fe",
   "metadata": {},
   "source": [
    "#### 필요한 패키지 불러오기"
   ]
  },
  {
   "cell_type": "code",
   "execution_count": 1,
   "id": "b5e9770f",
   "metadata": {},
   "outputs": [],
   "source": [
    "import pandas as pd\n",
    "import numpy as np\n",
    "import matplotlib.pyplot as plt"
   ]
  },
  {
   "cell_type": "markdown",
   "id": "73c27d1f",
   "metadata": {},
   "source": [
    "#### 애플(AAPL) 주식 데이터 가져오기"
   ]
  },
  {
   "cell_type": "code",
   "execution_count": 19,
   "id": "5e936b22",
   "metadata": {},
   "outputs": [
    {
     "data": {
      "text/html": [
       "<div>\n",
       "<style scoped>\n",
       "    .dataframe tbody tr th:only-of-type {\n",
       "        vertical-align: middle;\n",
       "    }\n",
       "\n",
       "    .dataframe tbody tr th {\n",
       "        vertical-align: top;\n",
       "    }\n",
       "\n",
       "    .dataframe thead th {\n",
       "        text-align: right;\n",
       "    }\n",
       "</style>\n",
       "<table border=\"1\" class=\"dataframe\">\n",
       "  <thead>\n",
       "    <tr style=\"text-align: right;\">\n",
       "      <th></th>\n",
       "      <th>close</th>\n",
       "      <th>close_raw</th>\n",
       "      <th>open</th>\n",
       "      <th>high</th>\n",
       "      <th>low</th>\n",
       "      <th>tvol</th>\n",
       "      <th>tamt</th>\n",
       "      <th>sign</th>\n",
       "    </tr>\n",
       "    <tr>\n",
       "      <th>date</th>\n",
       "      <th></th>\n",
       "      <th></th>\n",
       "      <th></th>\n",
       "      <th></th>\n",
       "      <th></th>\n",
       "      <th></th>\n",
       "      <th></th>\n",
       "      <th></th>\n",
       "    </tr>\n",
       "  </thead>\n",
       "  <tbody>\n",
       "    <tr>\n",
       "      <th>2018-01-02</th>\n",
       "      <td>40.4799</td>\n",
       "      <td>172.26</td>\n",
       "      <td>39.9864</td>\n",
       "      <td>40.4893</td>\n",
       "      <td>39.7749</td>\n",
       "      <td>25555900.0</td>\n",
       "      <td>4.379070e+09</td>\n",
       "      <td>2</td>\n",
       "    </tr>\n",
       "    <tr>\n",
       "      <th>2018-01-03</th>\n",
       "      <td>40.4728</td>\n",
       "      <td>172.23</td>\n",
       "      <td>40.5433</td>\n",
       "      <td>41.0180</td>\n",
       "      <td>40.4094</td>\n",
       "      <td>29517900.0</td>\n",
       "      <td>5.155500e+09</td>\n",
       "      <td>5</td>\n",
       "    </tr>\n",
       "    <tr>\n",
       "      <th>2018-01-04</th>\n",
       "      <td>40.6608</td>\n",
       "      <td>173.03</td>\n",
       "      <td>40.5457</td>\n",
       "      <td>40.7642</td>\n",
       "      <td>40.4376</td>\n",
       "      <td>22434600.0</td>\n",
       "      <td>3.881270e+09</td>\n",
       "      <td>2</td>\n",
       "    </tr>\n",
       "    <tr>\n",
       "      <th>2018-01-05</th>\n",
       "      <td>41.1238</td>\n",
       "      <td>175.00</td>\n",
       "      <td>40.7572</td>\n",
       "      <td>41.2107</td>\n",
       "      <td>40.6655</td>\n",
       "      <td>23660000.0</td>\n",
       "      <td>4.134190e+09</td>\n",
       "      <td>2</td>\n",
       "    </tr>\n",
       "    <tr>\n",
       "      <th>2018-01-08</th>\n",
       "      <td>40.9710</td>\n",
       "      <td>174.35</td>\n",
       "      <td>40.9710</td>\n",
       "      <td>41.2671</td>\n",
       "      <td>40.8723</td>\n",
       "      <td>20567800.0</td>\n",
       "      <td>3.591790e+09</td>\n",
       "      <td>5</td>\n",
       "    </tr>\n",
       "    <tr>\n",
       "      <th>...</th>\n",
       "      <td>...</td>\n",
       "      <td>...</td>\n",
       "      <td>...</td>\n",
       "      <td>...</td>\n",
       "      <td>...</td>\n",
       "      <td>...</td>\n",
       "      <td>...</td>\n",
       "      <td>...</td>\n",
       "    </tr>\n",
       "    <tr>\n",
       "      <th>2023-12-22</th>\n",
       "      <td>192.4450</td>\n",
       "      <td>193.60</td>\n",
       "      <td>194.0150</td>\n",
       "      <td>194.2440</td>\n",
       "      <td>191.8190</td>\n",
       "      <td>37149600.0</td>\n",
       "      <td>7.210780e+09</td>\n",
       "      <td>5</td>\n",
       "    </tr>\n",
       "    <tr>\n",
       "      <th>2023-12-26</th>\n",
       "      <td>191.8980</td>\n",
       "      <td>193.05</td>\n",
       "      <td>192.4550</td>\n",
       "      <td>192.7330</td>\n",
       "      <td>191.6790</td>\n",
       "      <td>28919300.0</td>\n",
       "      <td>5.586840e+09</td>\n",
       "      <td>5</td>\n",
       "    </tr>\n",
       "    <tr>\n",
       "      <th>2023-12-27</th>\n",
       "      <td>191.9970</td>\n",
       "      <td>193.15</td>\n",
       "      <td>191.3420</td>\n",
       "      <td>192.3450</td>\n",
       "      <td>189.9500</td>\n",
       "      <td>48087700.0</td>\n",
       "      <td>9.262920e+09</td>\n",
       "      <td>2</td>\n",
       "    </tr>\n",
       "    <tr>\n",
       "      <th>2023-12-28</th>\n",
       "      <td>192.4250</td>\n",
       "      <td>193.58</td>\n",
       "      <td>192.9820</td>\n",
       "      <td>193.4990</td>\n",
       "      <td>192.0170</td>\n",
       "      <td>34049900.0</td>\n",
       "      <td>6.603220e+09</td>\n",
       "      <td>2</td>\n",
       "    </tr>\n",
       "    <tr>\n",
       "      <th>2023-12-29</th>\n",
       "      <td>191.3810</td>\n",
       "      <td>192.53</td>\n",
       "      <td>192.7430</td>\n",
       "      <td>193.2400</td>\n",
       "      <td>190.5810</td>\n",
       "      <td>42672100.0</td>\n",
       "      <td>8.217690e+09</td>\n",
       "      <td>5</td>\n",
       "    </tr>\n",
       "  </tbody>\n",
       "</table>\n",
       "<p>1509 rows × 8 columns</p>\n",
       "</div>"
      ],
      "text/plain": [
       "               close  close_raw      open      high       low        tvol  \\\n",
       "date                                                                        \n",
       "2018-01-02   40.4799     172.26   39.9864   40.4893   39.7749  25555900.0   \n",
       "2018-01-03   40.4728     172.23   40.5433   41.0180   40.4094  29517900.0   \n",
       "2018-01-04   40.6608     173.03   40.5457   40.7642   40.4376  22434600.0   \n",
       "2018-01-05   41.1238     175.00   40.7572   41.2107   40.6655  23660000.0   \n",
       "2018-01-08   40.9710     174.35   40.9710   41.2671   40.8723  20567800.0   \n",
       "...              ...        ...       ...       ...       ...         ...   \n",
       "2023-12-22  192.4450     193.60  194.0150  194.2440  191.8190  37149600.0   \n",
       "2023-12-26  191.8980     193.05  192.4550  192.7330  191.6790  28919300.0   \n",
       "2023-12-27  191.9970     193.15  191.3420  192.3450  189.9500  48087700.0   \n",
       "2023-12-28  192.4250     193.58  192.9820  193.4990  192.0170  34049900.0   \n",
       "2023-12-29  191.3810     192.53  192.7430  193.2400  190.5810  42672100.0   \n",
       "\n",
       "                    tamt  sign  \n",
       "date                            \n",
       "2018-01-02  4.379070e+09     2  \n",
       "2018-01-03  5.155500e+09     5  \n",
       "2018-01-04  3.881270e+09     2  \n",
       "2018-01-05  4.134190e+09     2  \n",
       "2018-01-08  3.591790e+09     5  \n",
       "...                  ...   ...  \n",
       "2023-12-22  7.210780e+09     5  \n",
       "2023-12-26  5.586840e+09     5  \n",
       "2023-12-27  9.262920e+09     2  \n",
       "2023-12-28  6.603220e+09     2  \n",
       "2023-12-29  8.217690e+09     5  \n",
       "\n",
       "[1509 rows x 8 columns]"
      ]
     },
     "execution_count": 19,
     "metadata": {},
     "output_type": "execute_result"
    }
   ],
   "source": [
    "start_date = \"2018-01-01\"\n",
    "end_date = \"2023-12-31\"\n",
    "\n",
    "stock = pd.read_csv(\"https://raw.githubusercontent.com/safeai-snu/Econometrics/refs/heads/main/Part.3/data/AAPL_stock.csv\", index_col=0)\n",
    "stock = stock.loc[start_date:end_date]\n",
    "stock.index = pd.to_datetime(stock.index)\n",
    "stock"
   ]
  },
  {
   "cell_type": "markdown",
   "id": "5994ebca",
   "metadata": {},
   "source": [
    "#### 종가 데이터 추출"
   ]
  },
  {
   "cell_type": "code",
   "execution_count": 28,
   "id": "836f6df7",
   "metadata": {},
   "outputs": [],
   "source": [
    "stock = stock[['close']]\n",
    "stock['Naive_Forecast'] = stock.loc[:,'close'].shift(1)\n",
    "stock['Residuals'] = stock.loc[:,'close'].diff(1)"
   ]
  },
  {
   "cell_type": "markdown",
   "id": "849562b3",
   "metadata": {},
   "source": [
    "#### 부트스트랩"
   ]
  },
  {
   "cell_type": "code",
   "execution_count": 30,
   "id": "c61583a1",
   "metadata": {},
   "outputs": [],
   "source": [
    "np.random.seed(0)  \n",
    "n_days = 100\n",
    "n_simulations = 100  \n",
    "last_value = stock['close'].iloc[-1]\n",
    "\n",
    "simulations = pd.DataFrame(index=range(n_days), columns=range(n_simulations))\n",
    "\n",
    "for sim in range(n_simulations):\n",
    "    simulated_values = [last_value]\n",
    "    for day in range(1, n_days):\n",
    "        simulated_values.append(simulated_values[day-1] + np.random.choice(stock['Residuals'].dropna()))\n",
    "    simulations[sim] = simulated_values\n",
    "\n",
    "percentiles = [80, 95]\n",
    "lower_bounds = simulations.quantile(q=(1-percentiles[0]/100)/2, axis=1)\n",
    "upper_bounds = simulations.quantile(q=1-(1-percentiles[0]/100)/2, axis=1)\n",
    "lower_bounds_95 = simulations.quantile(q=(1-percentiles[1]/100)/2, axis=1)\n",
    "upper_bounds_95 = simulations.quantile(q=1-(1-percentiles[1]/100)/2, axis=1)"
   ]
  },
  {
   "cell_type": "markdown",
   "id": "87442a71",
   "metadata": {},
   "source": [
    "#### 시각화"
   ]
  },
  {
   "cell_type": "code",
   "execution_count": 31,
   "id": "207485c9",
   "metadata": {},
   "outputs": [
    {
     "data": {
      "image/png": "[encoded data removed]",
      "text/plain": [
       "<Figure size 1400x700 with 1 Axes>"
      ]
     },
     "metadata": {},
     "output_type": "display_data"
    },
    {
     "data": {
      "image/png": "[encoded data removed]",
      "text/plain": [
       "<Figure size 1400x700 with 1 Axes>"
      ]
     },
     "metadata": {},
     "output_type": "display_data"
    }
   ],
   "source": [
    "plt.figure(figsize=(14, 7))\n",
    "plt.plot(stock.index, stock['close'], label='Actual')\n",
    "for sim in simulations.columns:\n",
    "    plt.plot(stock.index[-1] + pd.to_timedelta(range(n_days), unit='D'), simulations[sim], alpha=0.1, color='grey')\n",
    "plt.title('Apple Stock Price Simulation using Naive Method with Bootstrapped Residuals')\n",
    "plt.xlabel('Date')\n",
    "plt.ylabel('Price')\n",
    "plt.legend()\n",
    "plt.show()\n",
    "\n",
    "plt.figure(figsize=(14, 7))\n",
    "plt.plot(stock.index, stock['close'], label='Actual')\n",
    "plt.fill_between(stock.index[-1] + pd.to_timedelta(range(n_days), unit='D'), lower_bounds, upper_bounds, color='blue', alpha=0.1, label=f'{percentiles[0]}% Interval')\n",
    "plt.fill_between(stock.index[-1] + pd.to_timedelta(range(n_days), unit='D'), lower_bounds_95, upper_bounds_95, color='blue', alpha=0.2, label=f'{percentiles[1]}% Interval')\n",
    "plt.title('Apple Stock Price Forecast Intervals')\n",
    "plt.xlabel('Date')\n",
    "plt.ylabel('Price')\n",
    "plt.legend()\n",
    "plt.show()"
   ]
  },
  {
   "cell_type": "markdown",
   "id": "0d06cbf2",
   "metadata": {},
   "source": [
    "## 예제 6-4. 푸리에 변환 예시"
   ]
  },
  {
   "cell_type": "markdown",
   "id": "3b99c3e2",
   "metadata": {},
   "source": [
    "### 소매 판매량 데이터 푸리에 변환"
   ]
  },
  {
   "cell_type": "markdown",
   "id": "2001fe4e",
   "metadata": {},
   "source": [
    "#### 필요한 패키지 불러오기"
   ]
  },
  {
   "cell_type": "code",
   "execution_count": null,
   "id": "969f8918",
   "metadata": {},
   "outputs": [],
   "source": [
    "import pandas as pd\n",
    "import numpy as np\n",
    "import matplotlib.pyplot as plt\n",
    "from statsmodels.api import OLS\n",
    "from statsmodels.tsa.stattools import acf"
   ]
  },
  {
   "cell_type": "markdown",
   "id": "61a5baa1",
   "metadata": {},
   "source": [
    "#### 데이터 전처리"
   ]
  },
  {
   "cell_type": "code",
   "execution_count": null,
   "id": "78bd8ff0",
   "metadata": {},
   "outputs": [],
   "source": [
    "retail = pd.read_csv(\"https://raw.githubusercontent.com/safeai-snu/Econometrics/refs/heads/main/Part.3/data/example_retail_sales.csv\")  \n",
    "retail['ds'] = pd.to_datetime(retail['ds'])\n",
    "retail['y'] = retail['y'].str.replace(\",\", \"\").astype(float)\n",
    "retail.set_index('ds', inplace=True)\n",
    "retail"
   ]
  },
  {
   "cell_type": "markdown",
   "id": "7853c85d",
   "metadata": {},
   "source": [
    "#### 주기 P 자동 탐색"
   ]
  },
  {
   "cell_type": "code",
   "execution_count": null,
   "id": "22ab51a6",
   "metadata": {},
   "outputs": [],
   "source": [
    "P = np.argmax(acf(np.log(retail[\"y\"]).dropna(), nlags=24))\n",
    "if P == 0:\n",
    "    P = 12 \n",
    "print(f\"Detected Periodicity (P): {P} months\")"
   ]
  },
  {
   "cell_type": "markdown",
   "id": "7e94deaa",
   "metadata": {},
   "source": [
    "#### 푸리에 변환 특성 생성 함수"
   ]
  },
  {
   "cell_type": "code",
   "execution_count": null,
   "id": "87910581",
   "metadata": {},
   "outputs": [],
   "source": [
    "def create_fourier_features(t, P, K):\n",
    "    X = np.ones((len(t), 2*K+2))\n",
    "    X[:, -1] = t\n",
    "    for k in range(1, K+1):\n",
    "        X[:, 2*k-1] = np.sin(2 * np.pi * k * t / P)\n",
    "        X[:, 2*k] = np.cos(2 * np.pi * k * t / P)\n",
    "    return X"
   ]
  },
  {
   "cell_type": "markdown",
   "id": "d326bd3d",
   "metadata": {},
   "source": [
    "#### 푸리에 변환"
   ]
  },
  {
   "cell_type": "code",
   "execution_count": null,
   "id": "551c427d",
   "metadata": {},
   "outputs": [],
   "source": [
    "def fit_fourier_series(df, K, P):\n",
    "    \n",
    "    df = df.copy()\n",
    "    dt = df[:-48].copy()\n",
    "\n",
    "    t = np.arange(len(dt))\n",
    "    X = create_fourier_features(t, P, K)\n",
    "    y = np.log(dt[\"y\"])  \n",
    "    model = OLS(y, X).fit()\n",
    "    \n",
    "    dt[\"fitted\"] = np.exp(model.predict(X)) * np.exp(y.mean() - model.predict(X).mean())\n",
    "\n",
    "    future_t = np.arange(len(dt), len(dt) + 48)\n",
    "    X_future = create_fourier_features(future_t, P, K)\n",
    "    forecast = np.exp(model.predict(X_future)) * np.exp(y.mean() - model.predict(X_future).mean())\n",
    "    adjustment_factor = dt[\"fitted\"].iloc[-1] / forecast[0]\n",
    "    forecast_adjusted = forecast * adjustment_factor\n",
    "\n",
    "    future_dates = pd.date_range(dt.index[-1] + pd.DateOffset(months=1), periods=48, freq='M')\n",
    "    \n",
    "    return dt, forecast_adjusted, future_dates"
   ]
  },
  {
   "cell_type": "markdown",
   "id": "f53d5fdd",
   "metadata": {},
   "source": [
    "#### 푸리에 예측 및 시각화"
   ]
  },
  {
   "cell_type": "code",
   "execution_count": null,
   "id": "214d71e7",
   "metadata": {
    "scrolled": false
   },
   "outputs": [],
   "source": [
    "fig, axes = plt.subplots(3, 2, figsize=(15, 10))\n",
    "axes = axes.flatten()\n",
    "\n",
    "for i, K in enumerate(range(1, 7)):  \n",
    "    modified_df, forecast, future_dates = fit_fourier_series(retail, K, P)\n",
    "\n",
    "    ax = axes[i]\n",
    "    ax.plot(retail.index, retail['y'], label='Actual', color='black')\n",
    "    ax.plot(modified_df.index, modified_df['fitted'], label=f'Fourier(K={K})', color='red', linestyle=\"dashed\")\n",
    "    ax.plot(future_dates, forecast, label='Forecast', color='blue', linestyle=\"dotted\")\n",
    "\n",
    "    ax.set_title(f'Fourier Transform Prediction (K={K})')\n",
    "    ax.legend()\n",
    "    ax.set_xlabel(\"Date\")\n",
    "    ax.set_ylabel(\"Turnover\")\n",
    "\n",
    "plt.tight_layout()\n",
    "plt.show()"
   ]
  },
  {
   "cell_type": "markdown",
   "id": "178abefc",
   "metadata": {},
   "source": [
    "## 예제 6-5. 추세 모델링 예시"
   ]
  },
  {
   "cell_type": "markdown",
   "id": "ac30e4a6",
   "metadata": {},
   "source": [
    "### 소매 판매 데이터 결정론적 추세 모델링"
   ]
  },
  {
   "cell_type": "markdown",
   "id": "5f6ba500",
   "metadata": {},
   "source": [
    "#### 필요한 패키지 불러오기"
   ]
  },
  {
   "cell_type": "code",
   "execution_count": null,
   "id": "ecea230e",
   "metadata": {},
   "outputs": [],
   "source": [
    "import pandas as pd\n",
    "import numpy as np\n",
    "import matplotlib.pyplot as plt\n",
    "from statsmodels.regression.linear_model import OLS\n",
    "from statsmodels.tools.tools import add_constant"
   ]
  },
  {
   "cell_type": "markdown",
   "id": "49fc3a5e",
   "metadata": {},
   "source": [
    "#### 데이터 전처리"
   ]
  },
  {
   "cell_type": "code",
   "execution_count": null,
   "id": "f186b4ad",
   "metadata": {},
   "outputs": [],
   "source": [
    "retail = pd.read_csv(\"https://raw.githubusercontent.com/safeai-snu/Econometrics/refs/heads/main/Part.3/data/example_retail_sales.csv\")  \n",
    "retail['ds'] = pd.to_datetime(retail['ds'])\n",
    "retail['y'] = retail['y'].str.replace(\",\", \"\").astype(float)\n",
    "start_date = retail['ds'].min()\n",
    "retail['Time'] = (retail['ds'] - start_date) / np.timedelta64(1, 'm')"
   ]
  },
  {
   "cell_type": "markdown",
   "id": "0bf1424e",
   "metadata": {},
   "source": [
    "#### 모델 피팅"
   ]
  },
  {
   "cell_type": "code",
   "execution_count": null,
   "id": "4b7a93f9",
   "metadata": {},
   "outputs": [],
   "source": [
    "y = np.log(retail['y'])\n",
    "X = add_constant(retail['Time'])\n",
    "model = OLS(y, X).fit()"
   ]
  },
  {
   "cell_type": "markdown",
   "id": "5fa59dc9",
   "metadata": {},
   "source": [
    "#### 추세 예측"
   ]
  },
  {
   "cell_type": "code",
   "execution_count": null,
   "id": "c8bcf83a",
   "metadata": {},
   "outputs": [],
   "source": [
    "retail['Fitted'] = model.predict(X)\n",
    "retail['Exp_Fitted'] = np.exp(retail['Fitted'])"
   ]
  },
  {
   "cell_type": "markdown",
   "id": "211f7154",
   "metadata": {},
   "source": [
    "#### 시각화"
   ]
  },
  {
   "cell_type": "code",
   "execution_count": null,
   "id": "1f0d766e",
   "metadata": {},
   "outputs": [],
   "source": [
    "plt.figure(figsize=(10, 5))\n",
    "plt.plot(retail['ds'], retail['y'], label='Actual')\n",
    "plt.plot(retail['ds'], retail['Exp_Fitted'], label='Fitted', linestyle='--')\n",
    "plt.xlabel('Date')\n",
    "plt.ylabel('Sales')\n",
    "plt.title('Retail Sales – Exponential Trend Regression')\n",
    "plt.legend()\n",
    "plt.show()\n",
    "\n",
    "plt.figure(figsize=(10, 5))\n",
    "residuals = y - retail['Fitted']\n",
    "plt.plot(retail['ds'], residuals, label='Residuals')\n",
    "plt.axhline(y=0, color='black', linestyle='--')\n",
    "plt.xlabel('Date')\n",
    "plt.ylabel('Residual')\n",
    "plt.title('Retail Sales – Exponential Trend Residual Plot')\n",
    "plt.legend()\n",
    "plt.show()"
   ]
  },
  {
   "cell_type": "markdown",
   "id": "6ba2b206",
   "metadata": {},
   "source": [
    "## 예제 6-5. 계절성 모델링 예시"
   ]
  },
  {
   "cell_type": "markdown",
   "id": "f249cd43",
   "metadata": {},
   "source": [
    "### 호주 맥주 판매량 데이터 결정론적 계절성 모델링"
   ]
  },
  {
   "cell_type": "markdown",
   "id": "a1aa8ff0",
   "metadata": {},
   "source": [
    "#### 필요한 패키지 불러오기"
   ]
  },
  {
   "cell_type": "code",
   "execution_count": null,
   "id": "39851131",
   "metadata": {},
   "outputs": [],
   "source": [
    "import pandas as pd\n",
    "import numpy as np\n",
    "import matplotlib.pyplot as plt\n",
    "import seaborn as sns\n",
    "from statsmodels.tsa.seasonal import seasonal_decompose\n",
    "from statsmodels.tsa.statespace.sarimax import SARIMAX\n",
    "from statsmodels.graphics.tsaplots import plot_acf\n",
    "import matplotlib.dates as mdates"
   ]
  },
  {
   "cell_type": "markdown",
   "id": "cf37e7de",
   "metadata": {},
   "source": [
    "#### 데이터 불러오기"
   ]
  },
  {
   "cell_type": "code",
   "execution_count": null,
   "id": "6f7d9bff",
   "metadata": {},
   "outputs": [],
   "source": [
    "aus_beer = pd.read_csv('https://raw.githubusercontent.com/safeai-snu/Econometrics/refs/heads/main/Part.3/data/aus_production.csv', parse_dates=['Quarter'], index_col='Quarter')"
   ]
  },
  {
   "cell_type": "markdown",
   "id": "13160e3c",
   "metadata": {},
   "source": [
    "#### 시계열 분해"
   ]
  },
  {
   "cell_type": "code",
   "execution_count": null,
   "id": "eb5a8a08",
   "metadata": {},
   "outputs": [],
   "source": [
    "decomposition = seasonal_decompose(aus_beer['Beer'], model='additive', period=4)"
   ]
  },
  {
   "cell_type": "markdown",
   "id": "d5eb5166",
   "metadata": {},
   "source": [
    "#### 분해 시각화"
   ]
  },
  {
   "cell_type": "code",
   "execution_count": null,
   "id": "40cc621e",
   "metadata": {},
   "outputs": [],
   "source": [
    "fig, ax = plt.subplots(4, 1, figsize=(10, 8))\n",
    "\n",
    "ax[0].plot(decomposition.observed)\n",
    "ax[0].set_title('Observed', fontsize=12)\n",
    "ax[0].set_ylabel('Value')\n",
    "\n",
    "ax[1].plot(decomposition.trend)\n",
    "ax[1].set_title('Trend', fontsize=12)\n",
    "ax[1].set_ylabel('Value')\n",
    "\n",
    "ax[2].plot(decomposition.seasonal)\n",
    "ax[2].set_title('Seasonal', fontsize=12)\n",
    "ax[2].set_ylabel('Value')\n",
    "\n",
    "ax[3].scatter(aus_beer.index, decomposition.resid, alpha=0.5)\n",
    "ax[3].set_title('Residual', fontsize=12)\n",
    "ax[3].set_ylabel('Value')\n",
    "\n",
    "ax[0].xaxis.set_major_locator(mdates.YearLocator())\n",
    "ax[1].xaxis.set_major_locator(mdates.YearLocator())\n",
    "ax[2].xaxis.set_major_locator(mdates.YearLocator())\n",
    "ax[3].xaxis.set_major_locator(mdates.YearLocator())\n",
    "\n",
    "ax[0].xaxis.set_major_formatter(mdates.DateFormatter('%Y'))\n",
    "ax[1].xaxis.set_major_formatter(mdates.DateFormatter('%Y'))\n",
    "ax[2].xaxis.set_major_formatter(mdates.DateFormatter('%Y'))\n",
    "ax[3].xaxis.set_major_formatter(mdates.DateFormatter('%Y'))\n",
    "\n",
    "for axis in ax:\n",
    "    plt.setp(axis.get_xticklabels(), rotation=45, ha='right')\n",
    "\n",
    "plt.tight_layout()\n",
    "plt.show()"
   ]
  },
  {
   "cell_type": "markdown",
   "id": "8c4d79ca",
   "metadata": {},
   "source": [
    "#### 계절성 더미 변수 추가"
   ]
  },
  {
   "cell_type": "code",
   "execution_count": null,
   "id": "f075aa7f",
   "metadata": {},
   "outputs": [],
   "source": [
    "aus_beer_dummies = pd.get_dummies(aus_beer.index).T"
   ]
  },
  {
   "cell_type": "markdown",
   "id": "ef49eaa0",
   "metadata": {},
   "source": [
    "#### 모델 피팅 (더미 변수 추가)"
   ]
  },
  {
   "cell_type": "code",
   "execution_count": null,
   "id": "c8295b04",
   "metadata": {},
   "outputs": [],
   "source": [
    "sarima_model = SARIMAX(aus_beer['Beer'], order=(1, 1, 1), seasonal_order=(1, 1, 1, 4),exog=aus_beer_dummies)\n",
    "sarima_results = sarima_model.fit()\n",
    "residuals = sarima_results.resid"
   ]
  },
  {
   "cell_type": "markdown",
   "id": "d596e734",
   "metadata": {},
   "source": [
    "#### 잔차 시각화"
   ]
  },
  {
   "cell_type": "code",
   "execution_count": null,
   "id": "f564f2b1",
   "metadata": {
    "scrolled": false
   },
   "outputs": [],
   "source": [
    "plt.figure(figsize=(20, 8))\n",
    "plt.plot(residuals)\n",
    "plt.title('Residuals from SARIMA Model')\n",
    "plt.show()\n",
    "\n",
    "plt.figure(figsize=(20, 8))\n",
    "plot_acf(residuals, lags=40)\n",
    "plt.show()\n",
    "\n",
    "plt.figure(figsize=(20, 8))\n",
    "sns.histplot(residuals, bins=20, kde=True)\n",
    "plt.title('Histogram of Residuals')\n",
    "plt.show()"
   ]
  },
  {
   "cell_type": "markdown",
   "id": "c5e4bd76",
   "metadata": {},
   "source": [
    "#### 모델 시각화"
   ]
  },
  {
   "cell_type": "code",
   "execution_count": null,
   "id": "5ffa4654",
   "metadata": {},
   "outputs": [],
   "source": [
    "fitted_values = sarima_results.fittedvalues\n",
    "plt.figure(figsize=(20, 8))\n",
    "sns.scatterplot(x=aus_beer['Beer'], y=fitted_values)\n",
    "plt.xlabel('Actual Values')\n",
    "plt.ylabel('Fitted Values')\n",
    "plt.title('Actual vs Fitted Values')\n",
    "plt.show()"
   ]
  },
  {
   "cell_type": "markdown",
   "id": "464f5406",
   "metadata": {},
   "source": [
    "#### 예측 시각화"
   ]
  },
  {
   "cell_type": "code",
   "execution_count": null,
   "id": "a6916a9f",
   "metadata": {},
   "outputs": [],
   "source": [
    "forecast = sarima_results.get_forecast(steps=8, exog=aus_beer_dummies.iloc[-8:])\n",
    "forecast_ci = forecast.conf_int()\n",
    "\n",
    "plt.figure(figsize=(20, 8))\n",
    "plt.plot(aus_beer.index, aus_beer['Beer'], label='Actual', color='red')\n",
    "plt.plot(forecast_ci.index, forecast.predicted_mean, label='Forecast')\n",
    "plt.fill_between(forecast_ci.index, forecast_ci.iloc[:, 0], forecast_ci.iloc[:, 1], color='lightgrey', alpha=0.5)\n",
    "plt.title('Beer Production Forecast')\n",
    "plt.legend()\n",
    "plt.show()"
   ]
  }
 ],
 "metadata": {
  "kernelspec": {
   "display_name": "ts",
   "language": "python",
   "name": "python3"
  },
  "language_info": {
   "codemirror_mode": {
    "name": "ipython",
    "version": 3
   },
   "file_extension": ".py",
   "mimetype": "text/x-python",
   "name": "python",
   "nbconvert_exporter": "python",
   "pygments_lexer": "ipython3",
   "version": "3.11.9"
  }
 },
 "nbformat": 4,
 "nbformat_minor": 5
}
